{
  "cells": [
    {
      "cell_type": "code",
      "execution_count": null,
      "metadata": {
        "id": "Y47IWMgJPg8r"
      },
      "outputs": [],
      "source": [
        "import pandas as pd"
      ]
    },
    {
      "cell_type": "markdown",
      "source": [
        "#EDA"
      ],
      "metadata": {
        "id": "ZuCMWuSEO6ch"
      }
    },
    {
      "cell_type": "code",
      "execution_count": null,
      "metadata": {
        "colab": {
          "base_uri": "https://localhost:8080/",
          "height": 532
        },
        "id": "xU9UXNP7QTwX",
        "outputId": "c5d750ba-09d5-4c47-965e-feb653bf9130"
      },
      "outputs": [
        {
          "output_type": "execute_result",
          "data": {
            "text/plain": [
              "       belongs_to_collection      budget                              genres  \\\n",
              "0       Toy Story Collection  30000000.0   ['Animation', 'Comedy', 'Family']   \n",
              "1                        NaN  65000000.0  ['Adventure', 'Fantasy', 'Family']   \n",
              "2  Grumpy Old Men Collection         0.0               ['Romance', 'Comedy']   \n",
              "\n",
              "      id original_language                                           overview  \\\n",
              "0    862                en  Led by Woody, Andy's toys live happily in his ...   \n",
              "1   8844                en  When siblings Judy and Peter discover an encha...   \n",
              "2  15602                en  A family wedding reignites the ancient feud be...   \n",
              "\n",
              "   popularity                               production_companies  \\\n",
              "0   21.946943                        ['Pixar Animation Studios']   \n",
              "1   17.015539  ['TriStar Pictures', 'Teitler Film', 'Intersco...   \n",
              "2   11.712900                 ['Warner Bros.', 'Lancaster Gate']   \n",
              "\n",
              "           production_countries release_date  ...         spoken_languages  \\\n",
              "0  ['United States of America']   1995-10-30  ...              ['English']   \n",
              "1  ['United States of America']   1995-12-15  ...  ['English', 'Français']   \n",
              "2  ['United States of America']   1995-12-22  ...              ['English']   \n",
              "\n",
              "     status                                            tagline  \\\n",
              "0  Released                                                NaN   \n",
              "1  Released          Roll the dice and unleash the excitement!   \n",
              "2  Released  Still Yelling. Still Fighting. Still Ready for...   \n",
              "\n",
              "              title vote_average vote_count  \\\n",
              "0         Toy Story          7.7     5415.0   \n",
              "1           Jumanji          6.9     2413.0   \n",
              "2  Grumpier Old Men          6.5       92.0   \n",
              "\n",
              "                                                cast  \\\n",
              "0  ['Tom Hanks', 'Tim Allen', 'Don Rickles', 'Jim...   \n",
              "1  ['Robin Williams', 'Jonathan Hyde', 'Kirsten D...   \n",
              "2  ['Walter Matthau', 'Jack Lemmon', 'Ann-Margret...   \n",
              "\n",
              "                                                crew     return release_year  \n",
              "0  ['John Lasseter', 'Joss Whedon', 'Andrew Stant...  12.451801         1995  \n",
              "1  ['Larry J. Franco', 'Jonathan Hensleigh', 'Jam...   4.043035         1995  \n",
              "2  ['Howard Deutch', 'Mark Steven Johnson', 'Mark...   0.000000         1995  \n",
              "\n",
              "[3 rows x 22 columns]"
            ],
            "text/html": [
              "\n",
              "  <div id=\"df-e0bac044-aec2-40fd-943e-a3c60a8b0dea\">\n",
              "    <div class=\"colab-df-container\">\n",
              "      <div>\n",
              "<style scoped>\n",
              "    .dataframe tbody tr th:only-of-type {\n",
              "        vertical-align: middle;\n",
              "    }\n",
              "\n",
              "    .dataframe tbody tr th {\n",
              "        vertical-align: top;\n",
              "    }\n",
              "\n",
              "    .dataframe thead th {\n",
              "        text-align: right;\n",
              "    }\n",
              "</style>\n",
              "<table border=\"1\" class=\"dataframe\">\n",
              "  <thead>\n",
              "    <tr style=\"text-align: right;\">\n",
              "      <th></th>\n",
              "      <th>belongs_to_collection</th>\n",
              "      <th>budget</th>\n",
              "      <th>genres</th>\n",
              "      <th>id</th>\n",
              "      <th>original_language</th>\n",
              "      <th>overview</th>\n",
              "      <th>popularity</th>\n",
              "      <th>production_companies</th>\n",
              "      <th>production_countries</th>\n",
              "      <th>release_date</th>\n",
              "      <th>...</th>\n",
              "      <th>spoken_languages</th>\n",
              "      <th>status</th>\n",
              "      <th>tagline</th>\n",
              "      <th>title</th>\n",
              "      <th>vote_average</th>\n",
              "      <th>vote_count</th>\n",
              "      <th>cast</th>\n",
              "      <th>crew</th>\n",
              "      <th>return</th>\n",
              "      <th>release_year</th>\n",
              "    </tr>\n",
              "  </thead>\n",
              "  <tbody>\n",
              "    <tr>\n",
              "      <th>0</th>\n",
              "      <td>Toy Story Collection</td>\n",
              "      <td>30000000.0</td>\n",
              "      <td>['Animation', 'Comedy', 'Family']</td>\n",
              "      <td>862</td>\n",
              "      <td>en</td>\n",
              "      <td>Led by Woody, Andy's toys live happily in his ...</td>\n",
              "      <td>21.946943</td>\n",
              "      <td>['Pixar Animation Studios']</td>\n",
              "      <td>['United States of America']</td>\n",
              "      <td>1995-10-30</td>\n",
              "      <td>...</td>\n",
              "      <td>['English']</td>\n",
              "      <td>Released</td>\n",
              "      <td>NaN</td>\n",
              "      <td>Toy Story</td>\n",
              "      <td>7.7</td>\n",
              "      <td>5415.0</td>\n",
              "      <td>['Tom Hanks', 'Tim Allen', 'Don Rickles', 'Jim...</td>\n",
              "      <td>['John Lasseter', 'Joss Whedon', 'Andrew Stant...</td>\n",
              "      <td>12.451801</td>\n",
              "      <td>1995</td>\n",
              "    </tr>\n",
              "    <tr>\n",
              "      <th>1</th>\n",
              "      <td>NaN</td>\n",
              "      <td>65000000.0</td>\n",
              "      <td>['Adventure', 'Fantasy', 'Family']</td>\n",
              "      <td>8844</td>\n",
              "      <td>en</td>\n",
              "      <td>When siblings Judy and Peter discover an encha...</td>\n",
              "      <td>17.015539</td>\n",
              "      <td>['TriStar Pictures', 'Teitler Film', 'Intersco...</td>\n",
              "      <td>['United States of America']</td>\n",
              "      <td>1995-12-15</td>\n",
              "      <td>...</td>\n",
              "      <td>['English', 'Français']</td>\n",
              "      <td>Released</td>\n",
              "      <td>Roll the dice and unleash the excitement!</td>\n",
              "      <td>Jumanji</td>\n",
              "      <td>6.9</td>\n",
              "      <td>2413.0</td>\n",
              "      <td>['Robin Williams', 'Jonathan Hyde', 'Kirsten D...</td>\n",
              "      <td>['Larry J. Franco', 'Jonathan Hensleigh', 'Jam...</td>\n",
              "      <td>4.043035</td>\n",
              "      <td>1995</td>\n",
              "    </tr>\n",
              "    <tr>\n",
              "      <th>2</th>\n",
              "      <td>Grumpy Old Men Collection</td>\n",
              "      <td>0.0</td>\n",
              "      <td>['Romance', 'Comedy']</td>\n",
              "      <td>15602</td>\n",
              "      <td>en</td>\n",
              "      <td>A family wedding reignites the ancient feud be...</td>\n",
              "      <td>11.712900</td>\n",
              "      <td>['Warner Bros.', 'Lancaster Gate']</td>\n",
              "      <td>['United States of America']</td>\n",
              "      <td>1995-12-22</td>\n",
              "      <td>...</td>\n",
              "      <td>['English']</td>\n",
              "      <td>Released</td>\n",
              "      <td>Still Yelling. Still Fighting. Still Ready for...</td>\n",
              "      <td>Grumpier Old Men</td>\n",
              "      <td>6.5</td>\n",
              "      <td>92.0</td>\n",
              "      <td>['Walter Matthau', 'Jack Lemmon', 'Ann-Margret...</td>\n",
              "      <td>['Howard Deutch', 'Mark Steven Johnson', 'Mark...</td>\n",
              "      <td>0.000000</td>\n",
              "      <td>1995</td>\n",
              "    </tr>\n",
              "  </tbody>\n",
              "</table>\n",
              "<p>3 rows × 22 columns</p>\n",
              "</div>\n",
              "      <button class=\"colab-df-convert\" onclick=\"convertToInteractive('df-e0bac044-aec2-40fd-943e-a3c60a8b0dea')\"\n",
              "              title=\"Convert this dataframe to an interactive table.\"\n",
              "              style=\"display:none;\">\n",
              "        \n",
              "  <svg xmlns=\"http://www.w3.org/2000/svg\" height=\"24px\"viewBox=\"0 0 24 24\"\n",
              "       width=\"24px\">\n",
              "    <path d=\"M0 0h24v24H0V0z\" fill=\"none\"/>\n",
              "    <path d=\"M18.56 5.44l.94 2.06.94-2.06 2.06-.94-2.06-.94-.94-2.06-.94 2.06-2.06.94zm-11 1L8.5 8.5l.94-2.06 2.06-.94-2.06-.94L8.5 2.5l-.94 2.06-2.06.94zm10 10l.94 2.06.94-2.06 2.06-.94-2.06-.94-.94-2.06-.94 2.06-2.06.94z\"/><path d=\"M17.41 7.96l-1.37-1.37c-.4-.4-.92-.59-1.43-.59-.52 0-1.04.2-1.43.59L10.3 9.45l-7.72 7.72c-.78.78-.78 2.05 0 2.83L4 21.41c.39.39.9.59 1.41.59.51 0 1.02-.2 1.41-.59l7.78-7.78 2.81-2.81c.8-.78.8-2.07 0-2.86zM5.41 20L4 18.59l7.72-7.72 1.47 1.35L5.41 20z\"/>\n",
              "  </svg>\n",
              "      </button>\n",
              "      \n",
              "  <style>\n",
              "    .colab-df-container {\n",
              "      display:flex;\n",
              "      flex-wrap:wrap;\n",
              "      gap: 12px;\n",
              "    }\n",
              "\n",
              "    .colab-df-convert {\n",
              "      background-color: #E8F0FE;\n",
              "      border: none;\n",
              "      border-radius: 50%;\n",
              "      cursor: pointer;\n",
              "      display: none;\n",
              "      fill: #1967D2;\n",
              "      height: 32px;\n",
              "      padding: 0 0 0 0;\n",
              "      width: 32px;\n",
              "    }\n",
              "\n",
              "    .colab-df-convert:hover {\n",
              "      background-color: #E2EBFA;\n",
              "      box-shadow: 0px 1px 2px rgba(60, 64, 67, 0.3), 0px 1px 3px 1px rgba(60, 64, 67, 0.15);\n",
              "      fill: #174EA6;\n",
              "    }\n",
              "\n",
              "    [theme=dark] .colab-df-convert {\n",
              "      background-color: #3B4455;\n",
              "      fill: #D2E3FC;\n",
              "    }\n",
              "\n",
              "    [theme=dark] .colab-df-convert:hover {\n",
              "      background-color: #434B5C;\n",
              "      box-shadow: 0px 1px 3px 1px rgba(0, 0, 0, 0.15);\n",
              "      filter: drop-shadow(0px 1px 2px rgba(0, 0, 0, 0.3));\n",
              "      fill: #FFFFFF;\n",
              "    }\n",
              "  </style>\n",
              "\n",
              "      <script>\n",
              "        const buttonEl =\n",
              "          document.querySelector('#df-e0bac044-aec2-40fd-943e-a3c60a8b0dea button.colab-df-convert');\n",
              "        buttonEl.style.display =\n",
              "          google.colab.kernel.accessAllowed ? 'block' : 'none';\n",
              "\n",
              "        async function convertToInteractive(key) {\n",
              "          const element = document.querySelector('#df-e0bac044-aec2-40fd-943e-a3c60a8b0dea');\n",
              "          const dataTable =\n",
              "            await google.colab.kernel.invokeFunction('convertToInteractive',\n",
              "                                                     [key], {});\n",
              "          if (!dataTable) return;\n",
              "\n",
              "          const docLinkHtml = 'Like what you see? Visit the ' +\n",
              "            '<a target=\"_blank\" href=https://colab.research.google.com/notebooks/data_table.ipynb>data table notebook</a>'\n",
              "            + ' to learn more about interactive tables.';\n",
              "          element.innerHTML = '';\n",
              "          dataTable['output_type'] = 'display_data';\n",
              "          await google.colab.output.renderOutput(dataTable, element);\n",
              "          const docLink = document.createElement('div');\n",
              "          docLink.innerHTML = docLinkHtml;\n",
              "          element.appendChild(docLink);\n",
              "        }\n",
              "      </script>\n",
              "    </div>\n",
              "  </div>\n",
              "  "
            ]
          },
          "metadata": {},
          "execution_count": 113
        }
      ],
      "source": [
        "df = pd.read_csv('/content/drive/MyDrive/proyecto_individual_HENRY_uno/data_trans')\n",
        "df.head(3)"
      ]
    },
    {
      "cell_type": "code",
      "execution_count": null,
      "metadata": {
        "colab": {
          "base_uri": "https://localhost:8080/"
        },
        "id": "35QjWKnYs-WV",
        "outputId": "6cddb693-0a87-4959-bd9f-71531aaa6480"
      },
      "outputs": [
        {
          "output_type": "stream",
          "name": "stdout",
          "text": [
            "<class 'pandas.core.frame.DataFrame'>\n",
            "RangeIndex: 45451 entries, 0 to 45450\n",
            "Data columns (total 22 columns):\n",
            " #   Column                 Non-Null Count  Dtype  \n",
            "---  ------                 --------------  -----  \n",
            " 0   belongs_to_collection  4497 non-null   object \n",
            " 1   budget                 45451 non-null  float64\n",
            " 2   genres                 45451 non-null  object \n",
            " 3   id                     45451 non-null  int64  \n",
            " 4   original_language      45440 non-null  object \n",
            " 5   overview               44510 non-null  object \n",
            " 6   popularity             45451 non-null  float64\n",
            " 7   production_companies   45451 non-null  object \n",
            " 8   production_countries   45451 non-null  object \n",
            " 9   release_date           45451 non-null  object \n",
            " 10  revenue                45451 non-null  float64\n",
            " 11  runtime                45205 non-null  float64\n",
            " 12  spoken_languages       45451 non-null  object \n",
            " 13  status                 45371 non-null  object \n",
            " 14  tagline                20425 non-null  object \n",
            " 15  title                  45451 non-null  object \n",
            " 16  vote_average           45451 non-null  float64\n",
            " 17  vote_count             45451 non-null  float64\n",
            " 18  cast                   45451 non-null  object \n",
            " 19  crew                   45451 non-null  object \n",
            " 20  return                 45451 non-null  float64\n",
            " 21  release_year           45451 non-null  int64  \n",
            "dtypes: float64(7), int64(2), object(13)\n",
            "memory usage: 7.6+ MB\n"
          ]
        },
        {
          "output_type": "execute_result",
          "data": {
            "text/plain": [
              "(45451, 22)"
            ]
          },
          "metadata": {},
          "execution_count": 114
        }
      ],
      "source": [
        "# Obtener información sobre las columnas y los tipos de datos\n",
        "df.info()\n",
        "\n",
        "# Obtener estadísticas descriptivas de las columnas numéricas\n",
        "df.describe()\n",
        "\n",
        "# Obtener el número de filas y columnas del DataFrame\n",
        "df.shape"
      ]
    },
    {
      "cell_type": "code",
      "execution_count": null,
      "metadata": {
        "colab": {
          "base_uri": "https://localhost:8080/"
        },
        "id": "DFDORAeyWsIN",
        "outputId": "8d5dce4b-c695-4993-9a4f-88b0456310cc"
      },
      "outputs": [
        {
          "output_type": "execute_result",
          "data": {
            "text/plain": [
              "False"
            ]
          },
          "metadata": {},
          "execution_count": 115
        }
      ],
      "source": [
        "import webbrowser\n",
        "\n",
        "webbrowser.open('informe.html')"
      ]
    },
    {
      "cell_type": "code",
      "execution_count": null,
      "metadata": {
        "colab": {
          "base_uri": "https://localhost:8080/"
        },
        "id": "M6BiVivLU58C",
        "outputId": "7db28d06-a9c6-4049-9d9c-0c55aa756b71"
      },
      "outputs": [
        {
          "output_type": "stream",
          "name": "stdout",
          "text": [
            "Looking in indexes: https://pypi.org/simple, https://us-python.pkg.dev/colab-wheels/public/simple/\n",
            "Requirement already satisfied: missingno in /usr/local/lib/python3.10/dist-packages (0.5.2)\n",
            "Requirement already satisfied: numpy in /usr/local/lib/python3.10/dist-packages (from missingno) (1.22.4)\n",
            "Requirement already satisfied: matplotlib in /usr/local/lib/python3.10/dist-packages (from missingno) (3.7.1)\n",
            "Requirement already satisfied: scipy in /usr/local/lib/python3.10/dist-packages (from missingno) (1.10.1)\n",
            "Requirement already satisfied: seaborn in /usr/local/lib/python3.10/dist-packages (from missingno) (0.12.2)\n",
            "Requirement already satisfied: contourpy>=1.0.1 in /usr/local/lib/python3.10/dist-packages (from matplotlib->missingno) (1.0.7)\n",
            "Requirement already satisfied: cycler>=0.10 in /usr/local/lib/python3.10/dist-packages (from matplotlib->missingno) (0.11.0)\n",
            "Requirement already satisfied: fonttools>=4.22.0 in /usr/local/lib/python3.10/dist-packages (from matplotlib->missingno) (4.39.3)\n",
            "Requirement already satisfied: kiwisolver>=1.0.1 in /usr/local/lib/python3.10/dist-packages (from matplotlib->missingno) (1.4.4)\n",
            "Requirement already satisfied: packaging>=20.0 in /usr/local/lib/python3.10/dist-packages (from matplotlib->missingno) (23.1)\n",
            "Requirement already satisfied: pillow>=6.2.0 in /usr/local/lib/python3.10/dist-packages (from matplotlib->missingno) (8.4.0)\n",
            "Requirement already satisfied: pyparsing>=2.3.1 in /usr/local/lib/python3.10/dist-packages (from matplotlib->missingno) (3.0.9)\n",
            "Requirement already satisfied: python-dateutil>=2.7 in /usr/local/lib/python3.10/dist-packages (from matplotlib->missingno) (2.8.2)\n",
            "Requirement already satisfied: pandas>=0.25 in /usr/local/lib/python3.10/dist-packages (from seaborn->missingno) (1.5.3)\n",
            "Requirement already satisfied: pytz>=2020.1 in /usr/local/lib/python3.10/dist-packages (from pandas>=0.25->seaborn->missingno) (2022.7.1)\n",
            "Requirement already satisfied: six>=1.5 in /usr/local/lib/python3.10/dist-packages (from python-dateutil>=2.7->matplotlib->missingno) (1.16.0)\n"
          ]
        }
      ],
      "source": [
        "!pip install missingno"
      ]
    },
    {
      "cell_type": "code",
      "execution_count": null,
      "metadata": {
        "id": "rNb6jIxlU_ih"
      },
      "outputs": [],
      "source": [
        "import missingno as msno\n",
        "import matplotlib.pyplot as plt"
      ]
    },
    {
      "cell_type": "code",
      "execution_count": null,
      "metadata": {
        "colab": {
          "base_uri": "https://localhost:8080/",
          "height": 703
        },
        "id": "nVvphBDIVDNb",
        "outputId": "d42bcced-362f-40a7-dd8f-920b0f4ab825"
      },
      "outputs": [
        {
          "output_type": "display_data",
          "data": {
            "text/plain": [
              "<Figure size 2500x1000 with 2 Axes>"
            ],
            "image/png": "[encoded data removed]"
          },
          "metadata": {}
        }
      ],
      "source": [
        "msno.matrix(df)  # Matriz de valores perdidos\n",
        "plt.show()"
      ]
    },
    {
      "cell_type": "code",
      "execution_count": null,
      "metadata": {
        "colab": {
          "base_uri": "https://localhost:8080/",
          "height": 709
        },
        "id": "BmMbYwO0VQ2c",
        "outputId": "a89b2341-af7c-4b4e-a00a-a208ceb99ead"
      },
      "outputs": [
        {
          "output_type": "display_data",
          "data": {
            "text/plain": [
              "<Figure size 2500x1000 with 3 Axes>"
            ],
            "image/png": "[encoded data removed]"
          },
          "metadata": {}
        }
      ],
      "source": [
        "msno.bar(df)\n",
        "plt.show()"
      ]
    },
    {
      "cell_type": "code",
      "execution_count": null,
      "metadata": {
        "colab": {
          "base_uri": "https://localhost:8080/",
          "height": 976
        },
        "id": "LaS9eb1tVXOA",
        "outputId": "3a8ef9b8-b9c7-4014-9635-6fdf32f22314"
      },
      "outputs": [
        {
          "output_type": "display_data",
          "data": {
            "text/plain": [
              "<Figure size 2000x1200 with 2 Axes>"
            ],
            "image/png": "[encoded data removed]"
          },
          "metadata": {}
        }
      ],
      "source": [
        "msno.heatmap(df)  # Mapa de calor de correlación de valores perdidos\n",
        "plt.show()"
      ]
    },
    {
      "cell_type": "code",
      "execution_count": null,
      "metadata": {
        "id": "FjW9WfbwVmoh",
        "colab": {
          "base_uri": "https://localhost:8080/",
          "height": 1000
        },
        "outputId": "b5751736-7e5e-457c-baec-da39de4142b4"
      },
      "outputs": [
        {
          "output_type": "stream",
          "name": "stdout",
          "text": [
            "Looking in indexes: https://pypi.org/simple, https://us-python.pkg.dev/colab-wheels/public/simple/\n",
            "Requirement already satisfied: autoviz in /usr/local/lib/python3.10/dist-packages (0.1.720)\n",
            "Requirement already satisfied: ipython in /usr/local/lib/python3.10/dist-packages (from autoviz) (7.34.0)\n",
            "Requirement already satisfied: jupyter in /usr/local/lib/python3.10/dist-packages (from autoviz) (1.0.0)\n",
            "Requirement already satisfied: xlrd in /usr/local/lib/python3.10/dist-packages (from autoviz) (2.0.1)\n",
            "Requirement already satisfied: wordcloud in /usr/local/lib/python3.10/dist-packages (from autoviz) (1.8.2.2)\n",
            "Requirement already satisfied: emoji in /usr/local/lib/python3.10/dist-packages (from autoviz) (2.5.0)\n",
            "Requirement already satisfied: numpy in /usr/local/lib/python3.10/dist-packages (from autoviz) (1.22.4)\n",
            "Requirement already satisfied: pandas in /usr/local/lib/python3.10/dist-packages (from autoviz) (1.5.3)\n",
            "Requirement already satisfied: pyamg in /usr/local/lib/python3.10/dist-packages (from autoviz) (5.0.0)\n",
            "Requirement already satisfied: matplotlib>=3.3.3 in /usr/local/lib/python3.10/dist-packages (from autoviz) (3.7.1)\n",
            "Requirement already satisfied: seaborn>=0.11.1 in /usr/local/lib/python3.10/dist-packages (from autoviz) (0.12.2)\n",
            "Requirement already satisfied: scikit-learn in /usr/local/lib/python3.10/dist-packages (from autoviz) (1.2.2)\n",
            "Requirement already satisfied: statsmodels in /usr/local/lib/python3.10/dist-packages (from autoviz) (0.13.5)\n",
            "Requirement already satisfied: nltk in /usr/local/lib/python3.10/dist-packages (from autoviz) (3.8.1)\n",
            "Requirement already satisfied: textblob in /usr/local/lib/python3.10/dist-packages (from autoviz) (0.17.1)\n",
            "Requirement already satisfied: holoviews~=1.14.9 in /usr/local/lib/python3.10/dist-packages (from autoviz) (1.14.9)\n",
            "Requirement already satisfied: bokeh~=2.4.2 in /usr/local/lib/python3.10/dist-packages (from autoviz) (2.4.3)\n",
            "Requirement already satisfied: hvplot~=0.7.3 in /usr/local/lib/python3.10/dist-packages (from autoviz) (0.7.3)\n",
            "Requirement already satisfied: panel>=0.12.6 in /usr/local/lib/python3.10/dist-packages (from autoviz) (0.14.4)\n",
            "Requirement already satisfied: xgboost>=0.82 in /usr/local/lib/python3.10/dist-packages (from autoviz) (1.7.5)\n",
            "Requirement already satisfied: fsspec>=0.8.3 in /usr/local/lib/python3.10/dist-packages (from autoviz) (2023.4.0)\n",
            "Requirement already satisfied: typing-extensions>=4.1.1 in /usr/local/lib/python3.10/dist-packages (from autoviz) (4.5.0)\n",
            "Requirement already satisfied: pandas-dq==1.28 in /usr/local/lib/python3.10/dist-packages (from autoviz) (1.28)\n",
            "Requirement already satisfied: Jinja2>=2.9 in /usr/local/lib/python3.10/dist-packages (from bokeh~=2.4.2->autoviz) (3.1.2)\n",
            "Requirement already satisfied: packaging>=16.8 in /usr/local/lib/python3.10/dist-packages (from bokeh~=2.4.2->autoviz) (23.1)\n",
            "Requirement already satisfied: pillow>=7.1.0 in /usr/local/lib/python3.10/dist-packages (from bokeh~=2.4.2->autoviz) (8.4.0)\n",
            "Requirement already satisfied: PyYAML>=3.10 in /usr/local/lib/python3.10/dist-packages (from bokeh~=2.4.2->autoviz) (6.0)\n",
            "Requirement already satisfied: tornado>=5.1 in /usr/local/lib/python3.10/dist-packages (from bokeh~=2.4.2->autoviz) (6.3.1)\n",
            "Requirement already satisfied: param<2.0,>=1.9.3 in /usr/local/lib/python3.10/dist-packages (from holoviews~=1.14.9->autoviz) (1.13.0)\n",
            "Requirement already satisfied: pyviz-comms>=0.7.4 in /usr/local/lib/python3.10/dist-packages (from holoviews~=1.14.9->autoviz) (2.2.1)\n",
            "Requirement already satisfied: colorcet in /usr/local/lib/python3.10/dist-packages (from holoviews~=1.14.9->autoviz) (3.0.1)\n",
            "Requirement already satisfied: contourpy>=1.0.1 in /usr/local/lib/python3.10/dist-packages (from matplotlib>=3.3.3->autoviz) (1.0.7)\n",
            "Requirement already satisfied: cycler>=0.10 in /usr/local/lib/python3.10/dist-packages (from matplotlib>=3.3.3->autoviz) (0.11.0)\n",
            "Requirement already satisfied: fonttools>=4.22.0 in /usr/local/lib/python3.10/dist-packages (from matplotlib>=3.3.3->autoviz) (4.39.3)\n",
            "Requirement already satisfied: kiwisolver>=1.0.1 in /usr/local/lib/python3.10/dist-packages (from matplotlib>=3.3.3->autoviz) (1.4.4)\n",
            "Requirement already satisfied: pyparsing>=2.3.1 in /usr/local/lib/python3.10/dist-packages (from matplotlib>=3.3.3->autoviz) (3.0.9)\n",
            "Requirement already satisfied: python-dateutil>=2.7 in /usr/local/lib/python3.10/dist-packages (from matplotlib>=3.3.3->autoviz) (2.8.2)\n",
            "Requirement already satisfied: pytz>=2020.1 in /usr/local/lib/python3.10/dist-packages (from pandas->autoviz) (2022.7.1)\n",
            "Requirement already satisfied: markdown in /usr/local/lib/python3.10/dist-packages (from panel>=0.12.6->autoviz) (3.4.3)\n",
            "Requirement already satisfied: requests in /usr/local/lib/python3.10/dist-packages (from panel>=0.12.6->autoviz) (2.27.1)\n",
            "Requirement already satisfied: tqdm>=4.48.0 in /usr/local/lib/python3.10/dist-packages (from panel>=0.12.6->autoviz) (4.65.0)\n",
            "Requirement already satisfied: pyct>=0.4.4 in /usr/local/lib/python3.10/dist-packages (from panel>=0.12.6->autoviz) (0.5.0)\n",
            "Requirement already satisfied: bleach in /usr/local/lib/python3.10/dist-packages (from panel>=0.12.6->autoviz) (6.0.0)\n",
            "Requirement already satisfied: setuptools>=42 in /usr/local/lib/python3.10/dist-packages (from panel>=0.12.6->autoviz) (67.7.2)\n",
            "Requirement already satisfied: scipy>=1.3.2 in /usr/local/lib/python3.10/dist-packages (from scikit-learn->autoviz) (1.10.1)\n",
            "Requirement already satisfied: joblib>=1.1.1 in /usr/local/lib/python3.10/dist-packages (from scikit-learn->autoviz) (1.2.0)\n",
            "Requirement already satisfied: threadpoolctl>=2.0.0 in /usr/local/lib/python3.10/dist-packages (from scikit-learn->autoviz) (3.1.0)\n",
            "Requirement already satisfied: jedi>=0.16 in /usr/local/lib/python3.10/dist-packages (from ipython->autoviz) (0.18.2)\n",
            "Requirement already satisfied: decorator in /usr/local/lib/python3.10/dist-packages (from ipython->autoviz) (4.4.2)\n",
            "Requirement already satisfied: pickleshare in /usr/local/lib/python3.10/dist-packages (from ipython->autoviz) (0.7.5)\n",
            "Requirement already satisfied: traitlets>=4.2 in /usr/local/lib/python3.10/dist-packages (from ipython->autoviz) (5.7.1)\n",
            "Requirement already satisfied: prompt-toolkit!=3.0.0,!=3.0.1,<3.1.0,>=2.0.0 in /usr/local/lib/python3.10/dist-packages (from ipython->autoviz) (3.0.38)\n",
            "Requirement already satisfied: pygments in /usr/local/lib/python3.10/dist-packages (from ipython->autoviz) (2.14.0)\n",
            "Requirement already satisfied: backcall in /usr/local/lib/python3.10/dist-packages (from ipython->autoviz) (0.2.0)\n",
            "Requirement already satisfied: matplotlib-inline in /usr/local/lib/python3.10/dist-packages (from ipython->autoviz) (0.1.6)\n",
            "Requirement already satisfied: pexpect>4.3 in /usr/local/lib/python3.10/dist-packages (from ipython->autoviz) (4.8.0)\n",
            "Requirement already satisfied: notebook in /usr/local/lib/python3.10/dist-packages (from jupyter->autoviz) (6.4.8)\n",
            "Requirement already satisfied: qtconsole in /usr/local/lib/python3.10/dist-packages (from jupyter->autoviz) (5.4.3)\n",
            "Requirement already satisfied: jupyter-console in /usr/local/lib/python3.10/dist-packages (from jupyter->autoviz) (6.1.0)\n",
            "Requirement already satisfied: nbconvert in /usr/local/lib/python3.10/dist-packages (from jupyter->autoviz) (6.5.4)\n",
            "Requirement already satisfied: ipykernel in /usr/local/lib/python3.10/dist-packages (from jupyter->autoviz) (5.5.6)\n",
            "Requirement already satisfied: ipywidgets in /usr/local/lib/python3.10/dist-packages (from jupyter->autoviz) (7.7.1)\n",
            "Requirement already satisfied: click in /usr/local/lib/python3.10/dist-packages (from nltk->autoviz) (8.1.3)\n",
            "Requirement already satisfied: regex>=2021.8.3 in /usr/local/lib/python3.10/dist-packages (from nltk->autoviz) (2022.10.31)\n",
            "Requirement already satisfied: patsy>=0.5.2 in /usr/local/lib/python3.10/dist-packages (from statsmodels->autoviz) (0.5.3)\n",
            "Requirement already satisfied: parso<0.9.0,>=0.8.0 in /usr/local/lib/python3.10/dist-packages (from jedi>=0.16->ipython->autoviz) (0.8.3)\n",
            "Requirement already satisfied: MarkupSafe>=2.0 in /usr/local/lib/python3.10/dist-packages (from Jinja2>=2.9->bokeh~=2.4.2->autoviz) (2.1.2)\n",
            "Requirement already satisfied: six in /usr/local/lib/python3.10/dist-packages (from patsy>=0.5.2->statsmodels->autoviz) (1.16.0)\n",
            "Requirement already satisfied: ptyprocess>=0.5 in /usr/local/lib/python3.10/dist-packages (from pexpect>4.3->ipython->autoviz) (0.7.0)\n",
            "Requirement already satisfied: wcwidth in /usr/local/lib/python3.10/dist-packages (from prompt-toolkit!=3.0.0,!=3.0.1,<3.1.0,>=2.0.0->ipython->autoviz) (0.2.6)\n",
            "Requirement already satisfied: webencodings in /usr/local/lib/python3.10/dist-packages (from bleach->panel>=0.12.6->autoviz) (0.5.1)\n",
            "Requirement already satisfied: ipython-genutils in /usr/local/lib/python3.10/dist-packages (from ipykernel->jupyter->autoviz) (0.2.0)\n",
            "Requirement already satisfied: jupyter-client in /usr/local/lib/python3.10/dist-packages (from ipykernel->jupyter->autoviz) (6.1.12)\n",
            "Requirement already satisfied: widgetsnbextension~=3.6.0 in /usr/local/lib/python3.10/dist-packages (from ipywidgets->jupyter->autoviz) (3.6.4)\n",
            "Requirement already satisfied: jupyterlab-widgets>=1.0.0 in /usr/local/lib/python3.10/dist-packages (from ipywidgets->jupyter->autoviz) (3.0.7)\n",
            "Requirement already satisfied: lxml in /usr/local/lib/python3.10/dist-packages (from nbconvert->jupyter->autoviz) (4.9.2)\n",
            "Requirement already satisfied: beautifulsoup4 in /usr/local/lib/python3.10/dist-packages (from nbconvert->jupyter->autoviz) (4.11.2)\n",
            "Requirement already satisfied: defusedxml in /usr/local/lib/python3.10/dist-packages (from nbconvert->jupyter->autoviz) (0.7.1)\n",
            "Requirement already satisfied: entrypoints>=0.2.2 in /usr/local/lib/python3.10/dist-packages (from nbconvert->jupyter->autoviz) (0.4)\n",
            "Requirement already satisfied: jupyter-core>=4.7 in /usr/local/lib/python3.10/dist-packages (from nbconvert->jupyter->autoviz) (5.3.0)\n",
            "Requirement already satisfied: jupyterlab-pygments in /usr/local/lib/python3.10/dist-packages (from nbconvert->jupyter->autoviz) (0.2.2)\n",
            "Requirement already satisfied: mistune<2,>=0.8.1 in /usr/local/lib/python3.10/dist-packages (from nbconvert->jupyter->autoviz) (0.8.4)\n",
            "Requirement already satisfied: nbclient>=0.5.0 in /usr/local/lib/python3.10/dist-packages (from nbconvert->jupyter->autoviz) (0.7.4)\n",
            "Requirement already satisfied: nbformat>=5.1 in /usr/local/lib/python3.10/dist-packages (from nbconvert->jupyter->autoviz) (5.8.0)\n",
            "Requirement already satisfied: pandocfilters>=1.4.1 in /usr/local/lib/python3.10/dist-packages (from nbconvert->jupyter->autoviz) (1.5.0)\n",
            "Requirement already satisfied: tinycss2 in /usr/local/lib/python3.10/dist-packages (from nbconvert->jupyter->autoviz) (1.2.1)\n",
            "Requirement already satisfied: pyzmq>=17 in /usr/local/lib/python3.10/dist-packages (from notebook->jupyter->autoviz) (23.2.1)\n",
            "Requirement already satisfied: argon2-cffi in /usr/local/lib/python3.10/dist-packages (from notebook->jupyter->autoviz) (21.3.0)\n",
            "Requirement already satisfied: nest-asyncio>=1.5 in /usr/local/lib/python3.10/dist-packages (from notebook->jupyter->autoviz) (1.5.6)\n",
            "Requirement already satisfied: Send2Trash>=1.8.0 in /usr/local/lib/python3.10/dist-packages (from notebook->jupyter->autoviz) (1.8.0)\n",
            "Requirement already satisfied: terminado>=0.8.3 in /usr/local/lib/python3.10/dist-packages (from notebook->jupyter->autoviz) (0.17.1)\n",
            "Requirement already satisfied: prometheus-client in /usr/local/lib/python3.10/dist-packages (from notebook->jupyter->autoviz) (0.16.0)\n",
            "Requirement already satisfied: qtpy>=2.0.1 in /usr/local/lib/python3.10/dist-packages (from qtconsole->jupyter->autoviz) (2.3.1)\n",
            "Requirement already satisfied: urllib3<1.27,>=1.21.1 in /usr/local/lib/python3.10/dist-packages (from requests->panel>=0.12.6->autoviz) (1.26.15)\n",
            "Requirement already satisfied: certifi>=2017.4.17 in /usr/local/lib/python3.10/dist-packages (from requests->panel>=0.12.6->autoviz) (2022.12.7)\n",
            "Requirement already satisfied: charset-normalizer~=2.0.0 in /usr/local/lib/python3.10/dist-packages (from requests->panel>=0.12.6->autoviz) (2.0.12)\n",
            "Requirement already satisfied: idna<4,>=2.5 in /usr/local/lib/python3.10/dist-packages (from requests->panel>=0.12.6->autoviz) (3.4)\n",
            "Requirement already satisfied: platformdirs>=2.5 in /usr/local/lib/python3.10/dist-packages (from jupyter-core>=4.7->nbconvert->jupyter->autoviz) (3.3.0)\n",
            "Requirement already satisfied: fastjsonschema in /usr/local/lib/python3.10/dist-packages (from nbformat>=5.1->nbconvert->jupyter->autoviz) (2.16.3)\n",
            "Requirement already satisfied: jsonschema>=2.6 in /usr/local/lib/python3.10/dist-packages (from nbformat>=5.1->nbconvert->jupyter->autoviz) (4.3.3)\n",
            "Requirement already satisfied: argon2-cffi-bindings in /usr/local/lib/python3.10/dist-packages (from argon2-cffi->notebook->jupyter->autoviz) (21.2.0)\n",
            "Requirement already satisfied: soupsieve>1.2 in /usr/local/lib/python3.10/dist-packages (from beautifulsoup4->nbconvert->jupyter->autoviz) (2.4.1)\n",
            "Requirement already satisfied: attrs>=17.4.0 in /usr/local/lib/python3.10/dist-packages (from jsonschema>=2.6->nbformat>=5.1->nbconvert->jupyter->autoviz) (23.1.0)\n",
            "Requirement already satisfied: pyrsistent!=0.17.0,!=0.17.1,!=0.17.2,>=0.14.0 in /usr/local/lib/python3.10/dist-packages (from jsonschema>=2.6->nbformat>=5.1->nbconvert->jupyter->autoviz) (0.19.3)\n",
            "Requirement already satisfied: cffi>=1.0.1 in /usr/local/lib/python3.10/dist-packages (from argon2-cffi-bindings->argon2-cffi->notebook->jupyter->autoviz) (1.15.1)\n",
            "Requirement already satisfied: pycparser in /usr/local/lib/python3.10/dist-packages (from cffi>=1.0.1->argon2-cffi-bindings->argon2-cffi->notebook->jupyter->autoviz) (2.21)\n",
            "Shape of your Data Set loaded: (45451, 22)\n",
            "#######################################################################################\n",
            "######################## C L A S S I F Y I N G  V A R I A B L E S  ####################\n",
            "#######################################################################################\n",
            "Classifying variables in data set...\n",
            "  Printing upto 30 columns max in each category:\n",
            "    Numeric Columns : ['budget', 'popularity', 'revenue', 'runtime', 'vote_average', 'vote_count', 'return']\n",
            "    Integer-Categorical Columns: ['id', 'release_year']\n",
            "    String-Categorical Columns: ['status', 'original_language']\n",
            "    Factor-Categorical Columns: []\n",
            "    String-Boolean Columns: []\n",
            "    Numeric-Boolean Columns: []\n",
            "    Discrete String Columns: []\n",
            "    NLP text Columns: ['overview', 'title', 'cast', 'crew', 'genres', 'production_companies', 'production_countries', 'release_date', 'spoken_languages', 'tagline']\n",
            "    Date Time Columns: []\n",
            "    ID Columns: []\n",
            "    Columns that will not be considered in modeling: ['belongs_to_collection']\n",
            "    22 Predictors classified...\n",
            "        1 variable(s) removed since they were ID or low-information variables\n",
            "        List of variables removed: ['belongs_to_collection']\n",
            "   Columns to delete:\n",
            "\"   ['belongs_to_collection']\"\n",
            "   Boolean variables %s \n",
            "'   []'\n",
            "   Categorical variables %s \n",
            "\"   ['status', 'original_language', 'id', 'release_year']\"\n",
            "   Continuous variables %s \n",
            "(\"   ['budget', 'popularity', 'revenue', 'runtime', 'vote_average', \"\n",
            " \"'vote_count', 'return']\")\n",
            "   Discrete string variables %s \n",
            "(\"   ['overview', 'title', 'cast', 'crew', 'genres', 'production_companies', \"\n",
            " \"'production_countries', 'release_date', 'spoken_languages', 'tagline']\")\n",
            "   Date and time variables %s \n",
            "'   []'\n",
            "   ID variables %s \n",
            "'   []'\n",
            "   Target variable %s \n",
            "'   '\n",
            "To fix data quality issues automatically, import FixDQ from autoviz...\n",
            "    Alert: Dropping 82 duplicate rows can sometimes cause column data types to change to object. Double-check!\n"
          ]
        },
        {
          "output_type": "display_data",
          "data": {
            "text/plain": [
              "<pandas.io.formats.style.Styler at 0x7f52cb08b370>"
            ],
            "text/html": [
              "<style type=\"text/css\">\n",
              "#T_a161c_row0_col0, #T_a161c_row0_col2, #T_a161c_row0_col5, #T_a161c_row1_col0, #T_a161c_row1_col2, #T_a161c_row1_col5, #T_a161c_row2_col0, #T_a161c_row2_col2, #T_a161c_row2_col5, #T_a161c_row3_col0, #T_a161c_row3_col2, #T_a161c_row3_col5, #T_a161c_row4_col0, #T_a161c_row4_col2, #T_a161c_row4_col5, #T_a161c_row5_col0, #T_a161c_row5_col2, #T_a161c_row5_col5, #T_a161c_row6_col0, #T_a161c_row6_col2, #T_a161c_row6_col5, #T_a161c_row7_col0, #T_a161c_row7_col2, #T_a161c_row7_col5, #T_a161c_row8_col0, #T_a161c_row8_col2, #T_a161c_row8_col5, #T_a161c_row9_col0, #T_a161c_row9_col2, #T_a161c_row9_col5, #T_a161c_row10_col0, #T_a161c_row10_col2, #T_a161c_row10_col5, #T_a161c_row11_col0, #T_a161c_row11_col2, #T_a161c_row11_col5, #T_a161c_row12_col0, #T_a161c_row12_col2, #T_a161c_row12_col5, #T_a161c_row13_col0, #T_a161c_row13_col2, #T_a161c_row13_col5, #T_a161c_row14_col0, #T_a161c_row14_col2, #T_a161c_row14_col5, #T_a161c_row15_col0, #T_a161c_row15_col2, #T_a161c_row15_col5, #T_a161c_row16_col0, #T_a161c_row16_col2, #T_a161c_row16_col5, #T_a161c_row17_col0, #T_a161c_row17_col2, #T_a161c_row17_col5, #T_a161c_row18_col0, #T_a161c_row18_col2, #T_a161c_row18_col5, #T_a161c_row19_col0, #T_a161c_row19_col2, #T_a161c_row19_col5, #T_a161c_row20_col0, #T_a161c_row20_col2, #T_a161c_row20_col5, #T_a161c_row21_col0, #T_a161c_row21_col2, #T_a161c_row21_col5 {\n",
              "  font-family: Segoe UI;\n",
              "}\n",
              "#T_a161c_row0_col1, #T_a161c_row10_col4, #T_a161c_row21_col3 {\n",
              "  background-color: #67000d;\n",
              "  color: #f1f1f1;\n",
              "  font-family: Segoe UI;\n",
              "}\n",
              "#T_a161c_row0_col3, #T_a161c_row0_col4, #T_a161c_row2_col3, #T_a161c_row2_col4, #T_a161c_row4_col3, #T_a161c_row4_col4, #T_a161c_row5_col3, #T_a161c_row5_col4, #T_a161c_row7_col3, #T_a161c_row7_col4, #T_a161c_row8_col3, #T_a161c_row8_col4, #T_a161c_row9_col3, #T_a161c_row9_col4, #T_a161c_row12_col3, #T_a161c_row12_col4, #T_a161c_row13_col3, #T_a161c_row13_col4, #T_a161c_row14_col3, #T_a161c_row14_col4, #T_a161c_row15_col3, #T_a161c_row15_col4, #T_a161c_row18_col3, #T_a161c_row18_col4, #T_a161c_row19_col3, #T_a161c_row19_col4 {\n",
              "  background-color: #000000;\n",
              "  color: #f1f1f1;\n",
              "  font-family: Segoe UI;\n",
              "}\n",
              "#T_a161c_row1_col1, #T_a161c_row1_col3, #T_a161c_row2_col1, #T_a161c_row3_col1, #T_a161c_row3_col3, #T_a161c_row3_col4, #T_a161c_row4_col1, #T_a161c_row6_col1, #T_a161c_row6_col3, #T_a161c_row6_col4, #T_a161c_row7_col1, #T_a161c_row8_col1, #T_a161c_row9_col1, #T_a161c_row10_col1, #T_a161c_row10_col3, #T_a161c_row11_col3, #T_a161c_row11_col4, #T_a161c_row12_col1, #T_a161c_row13_col1, #T_a161c_row15_col1, #T_a161c_row16_col1, #T_a161c_row16_col3, #T_a161c_row16_col4, #T_a161c_row17_col1, #T_a161c_row17_col3, #T_a161c_row17_col4, #T_a161c_row18_col1, #T_a161c_row19_col1, #T_a161c_row20_col1, #T_a161c_row20_col3, #T_a161c_row21_col1, #T_a161c_row21_col4 {\n",
              "  background-color: #fff5f0;\n",
              "  color: #000000;\n",
              "  font-family: Segoe UI;\n",
              "}\n",
              "#T_a161c_row1_col4 {\n",
              "  background-color: #fedecf;\n",
              "  color: #000000;\n",
              "  font-family: Segoe UI;\n",
              "}\n",
              "#T_a161c_row5_col1 {\n",
              "  background-color: #fff2eb;\n",
              "  color: #000000;\n",
              "  font-family: Segoe UI;\n",
              "}\n",
              "#T_a161c_row11_col1, #T_a161c_row20_col4 {\n",
              "  background-color: #fff4ef;\n",
              "  color: #000000;\n",
              "  font-family: Segoe UI;\n",
              "}\n",
              "#T_a161c_row14_col1 {\n",
              "  background-color: #f0402f;\n",
              "  color: #f1f1f1;\n",
              "  font-family: Segoe UI;\n",
              "}\n",
              "</style>\n",
              "<table id=\"T_a161c\" class=\"dataframe\">\n",
              "  <thead>\n",
              "    <tr>\n",
              "      <th class=\"blank level0\" >&nbsp;</th>\n",
              "      <th id=\"T_a161c_level0_col0\" class=\"col_heading level0 col0\" >Data Type</th>\n",
              "      <th id=\"T_a161c_level0_col1\" class=\"col_heading level0 col1\" >Missing Values%</th>\n",
              "      <th id=\"T_a161c_level0_col2\" class=\"col_heading level0 col2\" >Unique Values%</th>\n",
              "      <th id=\"T_a161c_level0_col3\" class=\"col_heading level0 col3\" >Minimum Value</th>\n",
              "      <th id=\"T_a161c_level0_col4\" class=\"col_heading level0 col4\" >Maximum Value</th>\n",
              "      <th id=\"T_a161c_level0_col5\" class=\"col_heading level0 col5\" >DQ Issue</th>\n",
              "    </tr>\n",
              "  </thead>\n",
              "  <tbody>\n",
              "    <tr>\n",
              "      <th id=\"T_a161c_level0_row0\" class=\"row_heading level0 row0\" >belongs_to_collection</th>\n",
              "      <td id=\"T_a161c_row0_col0\" class=\"data row0 col0\" >object</td>\n",
              "      <td id=\"T_a161c_row0_col1\" class=\"data row0 col1\" >90.107783</td>\n",
              "      <td id=\"T_a161c_row0_col2\" class=\"data row0 col2\" >3</td>\n",
              "      <td id=\"T_a161c_row0_col3\" class=\"data row0 col3\" >nan</td>\n",
              "      <td id=\"T_a161c_row0_col4\" class=\"data row0 col4\" >nan</td>\n",
              "      <td id=\"T_a161c_row0_col5\" class=\"data row0 col5\" >40881 missing values. Impute them with mean, median, mode, or a constant value such as 123., 1695 rare categories: Too many to list. Group them into a single category or drop the categories., Mixed dtypes: has 2 different data types:  object, float,, high cardinality with 1695 unique values: Use hash encoding or embedding to reduce dimension.</td>\n",
              "    </tr>\n",
              "    <tr>\n",
              "      <th id=\"T_a161c_level0_row1\" class=\"row_heading level0 row1\" >budget</th>\n",
              "      <td id=\"T_a161c_row1_col0\" class=\"data row1 col0\" >float64</td>\n",
              "      <td id=\"T_a161c_row1_col1\" class=\"data row1 col1\" >0.000000</td>\n",
              "      <td id=\"T_a161c_row1_col2\" class=\"data row1 col2\" >NA</td>\n",
              "      <td id=\"T_a161c_row1_col3\" class=\"data row1 col3\" >0.000000</td>\n",
              "      <td id=\"T_a161c_row1_col4\" class=\"data row1 col4\" >380000000.000000</td>\n",
              "      <td id=\"T_a161c_row1_col5\" class=\"data row1 col5\" >has 8892 outliers greater than upper bound (0.00) or lower than lower bound(0.00). Cap them or remove them.</td>\n",
              "    </tr>\n",
              "    <tr>\n",
              "      <th id=\"T_a161c_level0_row2\" class=\"row_heading level0 row2\" >genres</th>\n",
              "      <td id=\"T_a161c_row2_col0\" class=\"data row2 col0\" >object</td>\n",
              "      <td id=\"T_a161c_row2_col1\" class=\"data row2 col1\" >0.000000</td>\n",
              "      <td id=\"T_a161c_row2_col2\" class=\"data row2 col2\" >8</td>\n",
              "      <td id=\"T_a161c_row2_col3\" class=\"data row2 col3\" >nan</td>\n",
              "      <td id=\"T_a161c_row2_col4\" class=\"data row2 col4\" >nan</td>\n",
              "      <td id=\"T_a161c_row2_col5\" class=\"data row2 col5\" >4052 rare categories: Too many to list. Group them into a single category or drop the categories., high cardinality with 4065 unique values: Use hash encoding or embedding to reduce dimension.</td>\n",
              "    </tr>\n",
              "    <tr>\n",
              "      <th id=\"T_a161c_level0_row3\" class=\"row_heading level0 row3\" >id</th>\n",
              "      <td id=\"T_a161c_row3_col0\" class=\"data row3 col0\" >int64</td>\n",
              "      <td id=\"T_a161c_row3_col1\" class=\"data row3 col1\" >0.000000</td>\n",
              "      <td id=\"T_a161c_row3_col2\" class=\"data row3 col2\" >99</td>\n",
              "      <td id=\"T_a161c_row3_col3\" class=\"data row3 col3\" >2.000000</td>\n",
              "      <td id=\"T_a161c_row3_col4\" class=\"data row3 col4\" >469172.000000</td>\n",
              "      <td id=\"T_a161c_row3_col5\" class=\"data row3 col5\" >has 2486 outliers greater than upper bound (351457.00) or lower than lower bound(-168655.00). Cap them or remove them.</td>\n",
              "    </tr>\n",
              "    <tr>\n",
              "      <th id=\"T_a161c_level0_row4\" class=\"row_heading level0 row4\" >original_language</th>\n",
              "      <td id=\"T_a161c_row4_col0\" class=\"data row4 col0\" >object</td>\n",
              "      <td id=\"T_a161c_row4_col1\" class=\"data row4 col1\" >0.024246</td>\n",
              "      <td id=\"T_a161c_row4_col2\" class=\"data row4 col2\" >0</td>\n",
              "      <td id=\"T_a161c_row4_col3\" class=\"data row4 col3\" >nan</td>\n",
              "      <td id=\"T_a161c_row4_col4\" class=\"data row4 col4\" >nan</td>\n",
              "      <td id=\"T_a161c_row4_col5\" class=\"data row4 col5\" >11 missing values. Impute them with mean, median, mode, or a constant value such as 123., 81 rare categories: Too many to list. Group them into a single category or drop the categories., Mixed dtypes: has 2 different data types:  object, float,</td>\n",
              "    </tr>\n",
              "    <tr>\n",
              "      <th id=\"T_a161c_level0_row5\" class=\"row_heading level0 row5\" >overview</th>\n",
              "      <td id=\"T_a161c_row5_col0\" class=\"data row5 col0\" >object</td>\n",
              "      <td id=\"T_a161c_row5_col1\" class=\"data row5 col1\" >2.074103</td>\n",
              "      <td id=\"T_a161c_row5_col2\" class=\"data row5 col2\" >97</td>\n",
              "      <td id=\"T_a161c_row5_col3\" class=\"data row5 col3\" >nan</td>\n",
              "      <td id=\"T_a161c_row5_col4\" class=\"data row5 col4\" >nan</td>\n",
              "      <td id=\"T_a161c_row5_col5\" class=\"data row5 col5\" >941 missing values. Impute them with mean, median, mode, or a constant value such as 123., 44231 rare categories: Too many to list. Group them into a single category or drop the categories., Mixed dtypes: has 2 different data types:  object, float,, high cardinality with 44231 unique values: Use hash encoding or embedding to reduce dimension.</td>\n",
              "    </tr>\n",
              "    <tr>\n",
              "      <th id=\"T_a161c_level0_row6\" class=\"row_heading level0 row6\" >popularity</th>\n",
              "      <td id=\"T_a161c_row6_col0\" class=\"data row6 col0\" >float64</td>\n",
              "      <td id=\"T_a161c_row6_col1\" class=\"data row6 col1\" >0.000000</td>\n",
              "      <td id=\"T_a161c_row6_col2\" class=\"data row6 col2\" >NA</td>\n",
              "      <td id=\"T_a161c_row6_col3\" class=\"data row6 col3\" >0.000000</td>\n",
              "      <td id=\"T_a161c_row6_col4\" class=\"data row6 col4\" >547.488298</td>\n",
              "      <td id=\"T_a161c_row6_col5\" class=\"data row6 col5\" >has 4207 outliers greater than upper bound (8.65) or lower than lower bound(-4.57). Cap them or remove them.</td>\n",
              "    </tr>\n",
              "    <tr>\n",
              "      <th id=\"T_a161c_level0_row7\" class=\"row_heading level0 row7\" >production_companies</th>\n",
              "      <td id=\"T_a161c_row7_col0\" class=\"data row7 col0\" >object</td>\n",
              "      <td id=\"T_a161c_row7_col1\" class=\"data row7 col1\" >0.000000</td>\n",
              "      <td id=\"T_a161c_row7_col2\" class=\"data row7 col2\" >49</td>\n",
              "      <td id=\"T_a161c_row7_col3\" class=\"data row7 col3\" >nan</td>\n",
              "      <td id=\"T_a161c_row7_col4\" class=\"data row7 col4\" >nan</td>\n",
              "      <td id=\"T_a161c_row7_col5\" class=\"data row7 col5\" >22664 rare categories: Too many to list. Group them into a single category or drop the categories., high cardinality with 22668 unique values: Use hash encoding or embedding to reduce dimension.</td>\n",
              "    </tr>\n",
              "    <tr>\n",
              "      <th id=\"T_a161c_level0_row8\" class=\"row_heading level0 row8\" >production_countries</th>\n",
              "      <td id=\"T_a161c_row8_col0\" class=\"data row8 col0\" >object</td>\n",
              "      <td id=\"T_a161c_row8_col1\" class=\"data row8 col1\" >0.000000</td>\n",
              "      <td id=\"T_a161c_row8_col2\" class=\"data row8 col2\" >5</td>\n",
              "      <td id=\"T_a161c_row8_col3\" class=\"data row8 col3\" >nan</td>\n",
              "      <td id=\"T_a161c_row8_col4\" class=\"data row8 col4\" >nan</td>\n",
              "      <td id=\"T_a161c_row8_col5\" class=\"data row8 col5\" >2378 rare categories: Too many to list. Group them into a single category or drop the categories., high cardinality with 2389 unique values: Use hash encoding or embedding to reduce dimension.</td>\n",
              "    </tr>\n",
              "    <tr>\n",
              "      <th id=\"T_a161c_level0_row9\" class=\"row_heading level0 row9\" >release_date</th>\n",
              "      <td id=\"T_a161c_row9_col0\" class=\"data row9 col0\" >object</td>\n",
              "      <td id=\"T_a161c_row9_col1\" class=\"data row9 col1\" >0.000000</td>\n",
              "      <td id=\"T_a161c_row9_col2\" class=\"data row9 col2\" >38</td>\n",
              "      <td id=\"T_a161c_row9_col3\" class=\"data row9 col3\" >nan</td>\n",
              "      <td id=\"T_a161c_row9_col4\" class=\"data row9 col4\" >nan</td>\n",
              "      <td id=\"T_a161c_row9_col5\" class=\"data row9 col5\" >17333 rare categories: Too many to list. Group them into a single category or drop the categories., high cardinality with 17333 unique values: Use hash encoding or embedding to reduce dimension.</td>\n",
              "    </tr>\n",
              "    <tr>\n",
              "      <th id=\"T_a161c_level0_row10\" class=\"row_heading level0 row10\" >revenue</th>\n",
              "      <td id=\"T_a161c_row10_col0\" class=\"data row10 col0\" >float64</td>\n",
              "      <td id=\"T_a161c_row10_col1\" class=\"data row10 col1\" >0.000000</td>\n",
              "      <td id=\"T_a161c_row10_col2\" class=\"data row10 col2\" >NA</td>\n",
              "      <td id=\"T_a161c_row10_col3\" class=\"data row10 col3\" >0.000000</td>\n",
              "      <td id=\"T_a161c_row10_col4\" class=\"data row10 col4\" >2787965087.000000</td>\n",
              "      <td id=\"T_a161c_row10_col5\" class=\"data row10 col5\" >has 7408 outliers greater than upper bound (0.00) or lower than lower bound(0.00). Cap them or remove them.</td>\n",
              "    </tr>\n",
              "    <tr>\n",
              "      <th id=\"T_a161c_level0_row11\" class=\"row_heading level0 row11\" >runtime</th>\n",
              "      <td id=\"T_a161c_row11_col0\" class=\"data row11 col0\" >float64</td>\n",
              "      <td id=\"T_a161c_row11_col1\" class=\"data row11 col1\" >0.542220</td>\n",
              "      <td id=\"T_a161c_row11_col2\" class=\"data row11 col2\" >NA</td>\n",
              "      <td id=\"T_a161c_row11_col3\" class=\"data row11 col3\" >0.000000</td>\n",
              "      <td id=\"T_a161c_row11_col4\" class=\"data row11 col4\" >1256.000000</td>\n",
              "      <td id=\"T_a161c_row11_col5\" class=\"data row11 col5\" >246 missing values. Impute them with mean, median, mode, or a constant value such as 123., has 5388 outliers greater than upper bound (140.00) or lower than lower bound(52.00). Cap them or remove them.</td>\n",
              "    </tr>\n",
              "    <tr>\n",
              "      <th id=\"T_a161c_level0_row12\" class=\"row_heading level0 row12\" >spoken_languages</th>\n",
              "      <td id=\"T_a161c_row12_col0\" class=\"data row12 col0\" >object</td>\n",
              "      <td id=\"T_a161c_row12_col1\" class=\"data row12 col1\" >0.000000</td>\n",
              "      <td id=\"T_a161c_row12_col2\" class=\"data row12 col2\" >4</td>\n",
              "      <td id=\"T_a161c_row12_col3\" class=\"data row12 col3\" >nan</td>\n",
              "      <td id=\"T_a161c_row12_col4\" class=\"data row12 col4\" >nan</td>\n",
              "      <td id=\"T_a161c_row12_col5\" class=\"data row12 col5\" >1831 rare categories: Too many to list. Group them into a single category or drop the categories., high cardinality with 1843 unique values: Use hash encoding or embedding to reduce dimension.</td>\n",
              "    </tr>\n",
              "    <tr>\n",
              "      <th id=\"T_a161c_level0_row13\" class=\"row_heading level0 row13\" >status</th>\n",
              "      <td id=\"T_a161c_row13_col0\" class=\"data row13 col0\" >object</td>\n",
              "      <td id=\"T_a161c_row13_col1\" class=\"data row13 col1\" >0.176332</td>\n",
              "      <td id=\"T_a161c_row13_col2\" class=\"data row13 col2\" >0</td>\n",
              "      <td id=\"T_a161c_row13_col3\" class=\"data row13 col3\" >nan</td>\n",
              "      <td id=\"T_a161c_row13_col4\" class=\"data row13 col4\" >nan</td>\n",
              "      <td id=\"T_a161c_row13_col5\" class=\"data row13 col5\" >80 missing values. Impute them with mean, median, mode, or a constant value such as 123., 5 rare categories: ['Rumored', 'Post Production', 'In Production', 'Planned', 'Canceled']. Group them into a single category or drop the categories., Mixed dtypes: has 2 different data types:  object, float,</td>\n",
              "    </tr>\n",
              "    <tr>\n",
              "      <th id=\"T_a161c_level0_row14\" class=\"row_heading level0 row14\" >tagline</th>\n",
              "      <td id=\"T_a161c_row14_col0\" class=\"data row14 col0\" >object</td>\n",
              "      <td id=\"T_a161c_row14_col1\" class=\"data row14 col1\" >55.044193</td>\n",
              "      <td id=\"T_a161c_row14_col2\" class=\"data row14 col2\" >44</td>\n",
              "      <td id=\"T_a161c_row14_col3\" class=\"data row14 col3\" >nan</td>\n",
              "      <td id=\"T_a161c_row14_col4\" class=\"data row14 col4\" >nan</td>\n",
              "      <td id=\"T_a161c_row14_col5\" class=\"data row14 col5\" >24973 missing values. Impute them with mean, median, mode, or a constant value such as 123., 20269 rare categories: Too many to list. Group them into a single category or drop the categories., Mixed dtypes: has 2 different data types:  float, object,, high cardinality with 20269 unique values: Use hash encoding or embedding to reduce dimension.</td>\n",
              "    </tr>\n",
              "    <tr>\n",
              "      <th id=\"T_a161c_level0_row15\" class=\"row_heading level0 row15\" >title</th>\n",
              "      <td id=\"T_a161c_row15_col0\" class=\"data row15 col0\" >object</td>\n",
              "      <td id=\"T_a161c_row15_col1\" class=\"data row15 col1\" >0.000000</td>\n",
              "      <td id=\"T_a161c_row15_col2\" class=\"data row15 col2\" >93</td>\n",
              "      <td id=\"T_a161c_row15_col3\" class=\"data row15 col3\" >nan</td>\n",
              "      <td id=\"T_a161c_row15_col4\" class=\"data row15 col4\" >nan</td>\n",
              "      <td id=\"T_a161c_row15_col5\" class=\"data row15 col5\" >42195 rare categories: Too many to list. Group them into a single category or drop the categories., high cardinality with 42195 unique values: Use hash encoding or embedding to reduce dimension.</td>\n",
              "    </tr>\n",
              "    <tr>\n",
              "      <th id=\"T_a161c_level0_row16\" class=\"row_heading level0 row16\" >vote_average</th>\n",
              "      <td id=\"T_a161c_row16_col0\" class=\"data row16 col0\" >float64</td>\n",
              "      <td id=\"T_a161c_row16_col1\" class=\"data row16 col1\" >0.000000</td>\n",
              "      <td id=\"T_a161c_row16_col2\" class=\"data row16 col2\" >NA</td>\n",
              "      <td id=\"T_a161c_row16_col3\" class=\"data row16 col3\" >0.000000</td>\n",
              "      <td id=\"T_a161c_row16_col4\" class=\"data row16 col4\" >10.000000</td>\n",
              "      <td id=\"T_a161c_row16_col5\" class=\"data row16 col5\" >has 3543 outliers greater than upper bound (9.50) or lower than lower bound(2.30). Cap them or remove them.</td>\n",
              "    </tr>\n",
              "    <tr>\n",
              "      <th id=\"T_a161c_level0_row17\" class=\"row_heading level0 row17\" >vote_count</th>\n",
              "      <td id=\"T_a161c_row17_col0\" class=\"data row17 col0\" >float64</td>\n",
              "      <td id=\"T_a161c_row17_col1\" class=\"data row17 col1\" >0.000000</td>\n",
              "      <td id=\"T_a161c_row17_col2\" class=\"data row17 col2\" >NA</td>\n",
              "      <td id=\"T_a161c_row17_col3\" class=\"data row17 col3\" >0.000000</td>\n",
              "      <td id=\"T_a161c_row17_col4\" class=\"data row17 col4\" >14075.000000</td>\n",
              "      <td id=\"T_a161c_row17_col5\" class=\"data row17 col5\" >has 6887 outliers greater than upper bound (80.50) or lower than lower bound(-43.50). Cap them or remove them., has a high correlation with ['revenue']. Consider dropping one of them.</td>\n",
              "    </tr>\n",
              "    <tr>\n",
              "      <th id=\"T_a161c_level0_row18\" class=\"row_heading level0 row18\" >cast</th>\n",
              "      <td id=\"T_a161c_row18_col0\" class=\"data row18 col0\" >object</td>\n",
              "      <td id=\"T_a161c_row18_col1\" class=\"data row18 col1\" >0.000000</td>\n",
              "      <td id=\"T_a161c_row18_col2\" class=\"data row18 col2\" >94</td>\n",
              "      <td id=\"T_a161c_row18_col3\" class=\"data row18 col3\" >nan</td>\n",
              "      <td id=\"T_a161c_row18_col4\" class=\"data row18 col4\" >nan</td>\n",
              "      <td id=\"T_a161c_row18_col5\" class=\"data row18 col5\" >42656 rare categories: Too many to list. Group them into a single category or drop the categories., high cardinality with 42657 unique values: Use hash encoding or embedding to reduce dimension.</td>\n",
              "    </tr>\n",
              "    <tr>\n",
              "      <th id=\"T_a161c_level0_row19\" class=\"row_heading level0 row19\" >crew</th>\n",
              "      <td id=\"T_a161c_row19_col0\" class=\"data row19 col0\" >object</td>\n",
              "      <td id=\"T_a161c_row19_col1\" class=\"data row19 col1\" >0.000000</td>\n",
              "      <td id=\"T_a161c_row19_col2\" class=\"data row19 col2\" >94</td>\n",
              "      <td id=\"T_a161c_row19_col3\" class=\"data row19 col3\" >nan</td>\n",
              "      <td id=\"T_a161c_row19_col4\" class=\"data row19 col4\" >nan</td>\n",
              "      <td id=\"T_a161c_row19_col5\" class=\"data row19 col5\" >42908 rare categories: Too many to list. Group them into a single category or drop the categories., high cardinality with 42909 unique values: Use hash encoding or embedding to reduce dimension.</td>\n",
              "    </tr>\n",
              "    <tr>\n",
              "      <th id=\"T_a161c_level0_row20\" class=\"row_heading level0 row20\" >return</th>\n",
              "      <td id=\"T_a161c_row20_col0\" class=\"data row20 col0\" >float64</td>\n",
              "      <td id=\"T_a161c_row20_col1\" class=\"data row20 col1\" >0.000000</td>\n",
              "      <td id=\"T_a161c_row20_col2\" class=\"data row20 col2\" >NA</td>\n",
              "      <td id=\"T_a161c_row20_col3\" class=\"data row20 col3\" >0.000000</td>\n",
              "      <td id=\"T_a161c_row20_col4\" class=\"data row20 col4\" >12396383.000000</td>\n",
              "      <td id=\"T_a161c_row20_col5\" class=\"data row20 col5\" >has 5385 outliers greater than upper bound (0.00) or lower than lower bound(0.00). Cap them or remove them.</td>\n",
              "    </tr>\n",
              "    <tr>\n",
              "      <th id=\"T_a161c_level0_row21\" class=\"row_heading level0 row21\" >release_year</th>\n",
              "      <td id=\"T_a161c_row21_col0\" class=\"data row21 col0\" >int64</td>\n",
              "      <td id=\"T_a161c_row21_col1\" class=\"data row21 col1\" >0.000000</td>\n",
              "      <td id=\"T_a161c_row21_col2\" class=\"data row21 col2\" >0</td>\n",
              "      <td id=\"T_a161c_row21_col3\" class=\"data row21 col3\" >1874.000000</td>\n",
              "      <td id=\"T_a161c_row21_col4\" class=\"data row21 col4\" >2020.000000</td>\n",
              "      <td id=\"T_a161c_row21_col5\" class=\"data row21 col5\" >has 775 outliers greater than upper bound (2058.00) or lower than lower bound(1930.00). Cap them or remove them.</td>\n",
              "    </tr>\n",
              "  </tbody>\n",
              "</table>\n"
            ]
          },
          "metadata": {}
        },
        {
          "output_type": "stream",
          "name": "stdout",
          "text": [
            "Number of All Scatter Plots = 28\n"
          ]
        },
        {
          "output_type": "stream",
          "name": "stderr",
          "text": [
            "[nltk_data] Downloading collection 'popular'\n",
            "[nltk_data]    | \n",
            "[nltk_data]    | Downloading package cmudict to /root/nltk_data...\n",
            "[nltk_data]    |   Package cmudict is already up-to-date!\n",
            "[nltk_data]    | Downloading package gazetteers to /root/nltk_data...\n",
            "[nltk_data]    |   Package gazetteers is already up-to-date!\n",
            "[nltk_data]    | Downloading package genesis to /root/nltk_data...\n",
            "[nltk_data]    |   Package genesis is already up-to-date!\n",
            "[nltk_data]    | Downloading package gutenberg to /root/nltk_data...\n",
            "[nltk_data]    |   Package gutenberg is already up-to-date!\n",
            "[nltk_data]    | Downloading package inaugural to /root/nltk_data...\n",
            "[nltk_data]    |   Package inaugural is already up-to-date!\n",
            "[nltk_data]    | Downloading package movie_reviews to\n",
            "[nltk_data]    |     /root/nltk_data...\n",
            "[nltk_data]    |   Package movie_reviews is already up-to-date!\n",
            "[nltk_data]    | Downloading package names to /root/nltk_data...\n",
            "[nltk_data]    |   Package names is already up-to-date!\n",
            "[nltk_data]    | Downloading package shakespeare to /root/nltk_data...\n",
            "[nltk_data]    |   Package shakespeare is already up-to-date!\n",
            "[nltk_data]    | Downloading package stopwords to /root/nltk_data...\n",
            "[nltk_data]    |   Package stopwords is already up-to-date!\n",
            "[nltk_data]    | Downloading package treebank to /root/nltk_data...\n",
            "[nltk_data]    |   Package treebank is already up-to-date!\n",
            "[nltk_data]    | Downloading package twitter_samples to\n",
            "[nltk_data]    |     /root/nltk_data...\n",
            "[nltk_data]    |   Package twitter_samples is already up-to-date!\n",
            "[nltk_data]    | Downloading package omw to /root/nltk_data...\n",
            "[nltk_data]    |   Package omw is already up-to-date!\n",
            "[nltk_data]    | Downloading package omw-1.4 to /root/nltk_data...\n",
            "[nltk_data]    |   Package omw-1.4 is already up-to-date!\n",
            "[nltk_data]    | Downloading package wordnet to /root/nltk_data...\n",
            "[nltk_data]    |   Package wordnet is already up-to-date!\n",
            "[nltk_data]    | Downloading package wordnet2021 to /root/nltk_data...\n",
            "[nltk_data]    |   Package wordnet2021 is already up-to-date!\n",
            "[nltk_data]    | Downloading package wordnet31 to /root/nltk_data...\n",
            "[nltk_data]    |   Package wordnet31 is already up-to-date!\n",
            "[nltk_data]    | Downloading package wordnet_ic to /root/nltk_data...\n",
            "[nltk_data]    |   Package wordnet_ic is already up-to-date!\n",
            "[nltk_data]    | Downloading package words to /root/nltk_data...\n",
            "[nltk_data]    |   Package words is already up-to-date!\n",
            "[nltk_data]    | Downloading package maxent_ne_chunker to\n",
            "[nltk_data]    |     /root/nltk_data...\n",
            "[nltk_data]    |   Package maxent_ne_chunker is already up-to-date!\n",
            "[nltk_data]    | Downloading package punkt to /root/nltk_data...\n",
            "[nltk_data]    |   Package punkt is already up-to-date!\n",
            "[nltk_data]    | Downloading package snowball_data to\n",
            "[nltk_data]    |     /root/nltk_data...\n",
            "[nltk_data]    |   Package snowball_data is already up-to-date!\n",
            "[nltk_data]    | Downloading package averaged_perceptron_tagger to\n",
            "[nltk_data]    |     /root/nltk_data...\n",
            "[nltk_data]    |   Package averaged_perceptron_tagger is already up-\n",
            "[nltk_data]    |       to-date!\n",
            "[nltk_data]    | \n",
            "[nltk_data]  Done downloading collection popular\n"
          ]
        },
        {
          "output_type": "stream",
          "name": "stdout",
          "text": [
            "Could not draw wordcloud plot for overview\n",
            "Could not draw wordcloud plot for title\n",
            "Could not draw wordcloud plot for release_date\n",
            "Could not draw wordcloud plot for spoken_languages\n",
            "All Plots are saved in ./AutoViz_Plots/AutoViz\n",
            "Time to run AutoViz = 291 seconds \n"
          ]
        }
      ],
      "source": [
        "!pip install autoviz\n",
        "\n",
        "from autoviz.AutoViz_Class import AutoViz_Class\n",
        "\n",
        "# Cargar los datos en un DataFrame de Pandas\n",
        "#df = pd.read_csv('tu_archivo.csv')\n",
        "\n",
        "# Crear una instancia de la clase AutoViz_Class\n",
        "AV = AutoViz_Class()\n",
        "\n",
        "# Generar visualizaciones automáticas\n",
        "report = AV.AutoViz(\n",
        "    filename='',\n",
        "    sep=',',\n",
        "    depVar='',\n",
        "    dfte=df,\n",
        "    header=0,\n",
        "    verbose=2,\n",
        "    lowess=False,\n",
        "    chart_format='png',\n",
        "    max_rows_analyzed=150000,\n",
        "    max_cols_analyzed=30)\n"
      ]
    },
    {
      "cell_type": "code",
      "execution_count": null,
      "metadata": {
        "id": "lNHx37PUbiUa"
      },
      "outputs": [],
      "source": [
        "df.head(1)"
      ]
    },
    {
      "cell_type": "code",
      "execution_count": null,
      "metadata": {
        "id": "AGdGRPS8hgcN"
      },
      "outputs": [],
      "source": [
        "df['genre'] = df['genres'].apply(lambda x: [i.replace(\"'\", \"\") for i in x])"
      ]
    },
    {
      "cell_type": "code",
      "execution_count": null,
      "metadata": {
        "id": "G1GejLK-gImG"
      },
      "outputs": [],
      "source": [
        "df['genre'] = df['genre'].apply(lambda x: [i.replace(\" \", \"\") for i in x])"
      ]
    },
    {
      "cell_type": "code",
      "execution_count": null,
      "metadata": {
        "id": "EGp8dj6JgSPR"
      },
      "outputs": [],
      "source": [
        "df['genres'] = df['genres'].apply(lambda x: ' '.join(x))"
      ]
    },
    {
      "cell_type": "code",
      "execution_count": null,
      "metadata": {
        "id": "tWGi_peYgjC6"
      },
      "outputs": [],
      "source": []
    },
    {
      "cell_type": "markdown",
      "source": [
        "#Modelo"
      ],
      "metadata": {
        "id": "bGfhIsogO1RO"
      }
    },
    {
      "cell_type": "code",
      "execution_count": null,
      "metadata": {
        "colab": {
          "base_uri": "https://localhost:8080/",
          "height": 241
        },
        "id": "ocqfXWlalMPa",
        "outputId": "630ebea6-0810-4caa-f3b1-03c1c1940023"
      },
      "outputs": [
        {
          "output_type": "stream",
          "name": "stderr",
          "text": [
            "<ipython-input-1-8f5f32d2fb4d>:3: DtypeWarning: Columns (10) have mixed types. Specify dtype option on import or set low_memory=False.\n",
            "  df =  pd.read_csv('/content/drive/MyDrive/proyecto_individual_HENRY_uno/movies_dataset.csv')\n"
          ]
        },
        {
          "output_type": "execute_result",
          "data": {
            "text/plain": [
              "                                                cast  \\\n",
              "0  [{'cast_id': 14, 'character': 'Woody (voice)',...   \n",
              "1  [{'cast_id': 1, 'character': 'Alan Parrish', '...   \n",
              "2  [{'cast_id': 2, 'character': 'Max Goldman', 'c...   \n",
              "3  [{'cast_id': 1, 'character': \"Savannah 'Vannah...   \n",
              "4  [{'cast_id': 1, 'character': 'George Banks', '...   \n",
              "\n",
              "                                                crew     id  \n",
              "0  [{'credit_id': '52fe4284c3a36847f8024f49', 'de...    862  \n",
              "1  [{'credit_id': '52fe44bfc3a36847f80a7cd1', 'de...   8844  \n",
              "2  [{'credit_id': '52fe466a9251416c75077a89', 'de...  15602  \n",
              "3  [{'credit_id': '52fe44779251416c91011acb', 'de...  31357  \n",
              "4  [{'credit_id': '52fe44959251416c75039ed7', 'de...  11862  "
            ],
            "text/html": [
              "\n",
              "  <div id=\"df-c1df8a3f-d5e3-4353-86f4-4d20593bd8c9\">\n",
              "    <div class=\"colab-df-container\">\n",
              "      <div>\n",
              "<style scoped>\n",
              "    .dataframe tbody tr th:only-of-type {\n",
              "        vertical-align: middle;\n",
              "    }\n",
              "\n",
              "    .dataframe tbody tr th {\n",
              "        vertical-align: top;\n",
              "    }\n",
              "\n",
              "    .dataframe thead th {\n",
              "        text-align: right;\n",
              "    }\n",
              "</style>\n",
              "<table border=\"1\" class=\"dataframe\">\n",
              "  <thead>\n",
              "    <tr style=\"text-align: right;\">\n",
              "      <th></th>\n",
              "      <th>cast</th>\n",
              "      <th>crew</th>\n",
              "      <th>id</th>\n",
              "    </tr>\n",
              "  </thead>\n",
              "  <tbody>\n",
              "    <tr>\n",
              "      <th>0</th>\n",
              "      <td>[{'cast_id': 14, 'character': 'Woody (voice)',...</td>\n",
              "      <td>[{'credit_id': '52fe4284c3a36847f8024f49', 'de...</td>\n",
              "      <td>862</td>\n",
              "    </tr>\n",
              "    <tr>\n",
              "      <th>1</th>\n",
              "      <td>[{'cast_id': 1, 'character': 'Alan Parrish', '...</td>\n",
              "      <td>[{'credit_id': '52fe44bfc3a36847f80a7cd1', 'de...</td>\n",
              "      <td>8844</td>\n",
              "    </tr>\n",
              "    <tr>\n",
              "      <th>2</th>\n",
              "      <td>[{'cast_id': 2, 'character': 'Max Goldman', 'c...</td>\n",
              "      <td>[{'credit_id': '52fe466a9251416c75077a89', 'de...</td>\n",
              "      <td>15602</td>\n",
              "    </tr>\n",
              "    <tr>\n",
              "      <th>3</th>\n",
              "      <td>[{'cast_id': 1, 'character': \"Savannah 'Vannah...</td>\n",
              "      <td>[{'credit_id': '52fe44779251416c91011acb', 'de...</td>\n",
              "      <td>31357</td>\n",
              "    </tr>\n",
              "    <tr>\n",
              "      <th>4</th>\n",
              "      <td>[{'cast_id': 1, 'character': 'George Banks', '...</td>\n",
              "      <td>[{'credit_id': '52fe44959251416c75039ed7', 'de...</td>\n",
              "      <td>11862</td>\n",
              "    </tr>\n",
              "  </tbody>\n",
              "</table>\n",
              "</div>\n",
              "      <button class=\"colab-df-convert\" onclick=\"convertToInteractive('df-c1df8a3f-d5e3-4353-86f4-4d20593bd8c9')\"\n",
              "              title=\"Convert this dataframe to an interactive table.\"\n",
              "              style=\"display:none;\">\n",
              "        \n",
              "  <svg xmlns=\"http://www.w3.org/2000/svg\" height=\"24px\"viewBox=\"0 0 24 24\"\n",
              "       width=\"24px\">\n",
              "    <path d=\"M0 0h24v24H0V0z\" fill=\"none\"/>\n",
              "    <path d=\"M18.56 5.44l.94 2.06.94-2.06 2.06-.94-2.06-.94-.94-2.06-.94 2.06-2.06.94zm-11 1L8.5 8.5l.94-2.06 2.06-.94-2.06-.94L8.5 2.5l-.94 2.06-2.06.94zm10 10l.94 2.06.94-2.06 2.06-.94-2.06-.94-.94-2.06-.94 2.06-2.06.94z\"/><path d=\"M17.41 7.96l-1.37-1.37c-.4-.4-.92-.59-1.43-.59-.52 0-1.04.2-1.43.59L10.3 9.45l-7.72 7.72c-.78.78-.78 2.05 0 2.83L4 21.41c.39.39.9.59 1.41.59.51 0 1.02-.2 1.41-.59l7.78-7.78 2.81-2.81c.8-.78.8-2.07 0-2.86zM5.41 20L4 18.59l7.72-7.72 1.47 1.35L5.41 20z\"/>\n",
              "  </svg>\n",
              "      </button>\n",
              "      \n",
              "  <style>\n",
              "    .colab-df-container {\n",
              "      display:flex;\n",
              "      flex-wrap:wrap;\n",
              "      gap: 12px;\n",
              "    }\n",
              "\n",
              "    .colab-df-convert {\n",
              "      background-color: #E8F0FE;\n",
              "      border: none;\n",
              "      border-radius: 50%;\n",
              "      cursor: pointer;\n",
              "      display: none;\n",
              "      fill: #1967D2;\n",
              "      height: 32px;\n",
              "      padding: 0 0 0 0;\n",
              "      width: 32px;\n",
              "    }\n",
              "\n",
              "    .colab-df-convert:hover {\n",
              "      background-color: #E2EBFA;\n",
              "      box-shadow: 0px 1px 2px rgba(60, 64, 67, 0.3), 0px 1px 3px 1px rgba(60, 64, 67, 0.15);\n",
              "      fill: #174EA6;\n",
              "    }\n",
              "\n",
              "    [theme=dark] .colab-df-convert {\n",
              "      background-color: #3B4455;\n",
              "      fill: #D2E3FC;\n",
              "    }\n",
              "\n",
              "    [theme=dark] .colab-df-convert:hover {\n",
              "      background-color: #434B5C;\n",
              "      box-shadow: 0px 1px 3px 1px rgba(0, 0, 0, 0.15);\n",
              "      filter: drop-shadow(0px 1px 2px rgba(0, 0, 0, 0.3));\n",
              "      fill: #FFFFFF;\n",
              "    }\n",
              "  </style>\n",
              "\n",
              "      <script>\n",
              "        const buttonEl =\n",
              "          document.querySelector('#df-c1df8a3f-d5e3-4353-86f4-4d20593bd8c9 button.colab-df-convert');\n",
              "        buttonEl.style.display =\n",
              "          google.colab.kernel.accessAllowed ? 'block' : 'none';\n",
              "\n",
              "        async function convertToInteractive(key) {\n",
              "          const element = document.querySelector('#df-c1df8a3f-d5e3-4353-86f4-4d20593bd8c9');\n",
              "          const dataTable =\n",
              "            await google.colab.kernel.invokeFunction('convertToInteractive',\n",
              "                                                     [key], {});\n",
              "          if (!dataTable) return;\n",
              "\n",
              "          const docLinkHtml = 'Like what you see? Visit the ' +\n",
              "            '<a target=\"_blank\" href=https://colab.research.google.com/notebooks/data_table.ipynb>data table notebook</a>'\n",
              "            + ' to learn more about interactive tables.';\n",
              "          element.innerHTML = '';\n",
              "          dataTable['output_type'] = 'display_data';\n",
              "          await google.colab.output.renderOutput(dataTable, element);\n",
              "          const docLink = document.createElement('div');\n",
              "          docLink.innerHTML = docLinkHtml;\n",
              "          element.appendChild(docLink);\n",
              "        }\n",
              "      </script>\n",
              "    </div>\n",
              "  </div>\n",
              "  "
            ]
          },
          "metadata": {},
          "execution_count": 1
        }
      ],
      "source": [
        "import pandas as pd\n",
        "#veamos  los datos\n",
        "df =  pd.read_csv('/content/drive/MyDrive/proyecto_individual_HENRY_uno/movies_dataset.csv')\n",
        "df_comp = pd.read_csv('/content/drive/MyDrive/proyecto_individual_HENRY_uno/credits.csv', sep=',', encoding=\"utf8\")\n",
        "#df.head()\n",
        "df_comp.head()"
      ]
    },
    {
      "cell_type": "code",
      "execution_count": null,
      "metadata": {
        "id": "ZTc0E2q3lN87"
      },
      "outputs": [],
      "source": [
        "#cambiar el type del id\n",
        "df_comp['id'] = df_comp['id'].astype('str')"
      ]
    },
    {
      "cell_type": "code",
      "execution_count": null,
      "metadata": {
        "colab": {
          "base_uri": "https://localhost:8080/",
          "height": 1000
        },
        "id": "urwfgTwelTyY",
        "outputId": "92c78807-01ea-4e7b-d5dd-9475804bbf27"
      },
      "outputs": [
        {
          "output_type": "execute_result",
          "data": {
            "text/plain": [
              "       adult                              belongs_to_collection    budget  \\\n",
              "0      False  {'id': 10194, 'name': 'Toy Story Collection', ...  30000000   \n",
              "1      False                                                NaN  65000000   \n",
              "2      False  {'id': 119050, 'name': 'Grumpy Old Men Collect...         0   \n",
              "3      False                                                NaN  16000000   \n",
              "4      False  {'id': 96871, 'name': 'Father of the Bride Col...         0   \n",
              "...      ...                                                ...       ...   \n",
              "45533  False                                                NaN         0   \n",
              "45534  False                                                NaN         0   \n",
              "45535  False                                                NaN         0   \n",
              "45536  False                                                NaN         0   \n",
              "45537  False                                                NaN         0   \n",
              "\n",
              "                                                  genres  \\\n",
              "0      [{'id': 16, 'name': 'Animation'}, {'id': 35, '...   \n",
              "1      [{'id': 12, 'name': 'Adventure'}, {'id': 14, '...   \n",
              "2      [{'id': 10749, 'name': 'Romance'}, {'id': 35, ...   \n",
              "3      [{'id': 35, 'name': 'Comedy'}, {'id': 18, 'nam...   \n",
              "4                         [{'id': 35, 'name': 'Comedy'}]   \n",
              "...                                                  ...   \n",
              "45533  [{'id': 18, 'name': 'Drama'}, {'id': 10751, 'n...   \n",
              "45534                      [{'id': 18, 'name': 'Drama'}]   \n",
              "45535  [{'id': 28, 'name': 'Action'}, {'id': 18, 'nam...   \n",
              "45536                                                 []   \n",
              "45537                                                 []   \n",
              "\n",
              "                                   homepage      id    imdb_id  \\\n",
              "0      http://toystory.disney.com/toy-story     862  tt0114709   \n",
              "1                                       NaN    8844  tt0113497   \n",
              "2                                       NaN   15602  tt0113228   \n",
              "3                                       NaN   31357  tt0114885   \n",
              "4                                       NaN   11862  tt0113041   \n",
              "...                                     ...     ...        ...   \n",
              "45533  http://www.imdb.com/title/tt6209470/  439050  tt6209470   \n",
              "45534                                   NaN  111109  tt2028550   \n",
              "45535                                   NaN   67758  tt0303758   \n",
              "45536                                   NaN  227506  tt0008536   \n",
              "45537                                   NaN  461257  tt6980792   \n",
              "\n",
              "      original_language               original_title  \\\n",
              "0                    en                    Toy Story   \n",
              "1                    en                      Jumanji   \n",
              "2                    en             Grumpier Old Men   \n",
              "3                    en            Waiting to Exhale   \n",
              "4                    en  Father of the Bride Part II   \n",
              "...                 ...                          ...   \n",
              "45533                fa                      رگ خواب   \n",
              "45534                tl          Siglo ng Pagluluwal   \n",
              "45535                en                     Betrayal   \n",
              "45536                en          Satana likuyushchiy   \n",
              "45537                en                     Queerama   \n",
              "\n",
              "                                                overview  ... runtime  \\\n",
              "0      Led by Woody, Andy's toys live happily in his ...  ...    81.0   \n",
              "1      When siblings Judy and Peter discover an encha...  ...   104.0   \n",
              "2      A family wedding reignites the ancient feud be...  ...   101.0   \n",
              "3      Cheated on, mistreated and stepped on, the wom...  ...   127.0   \n",
              "4      Just when George Banks has recovered from his ...  ...   106.0   \n",
              "...                                                  ...  ...     ...   \n",
              "45533        Rising and falling between a man and woman.  ...    90.0   \n",
              "45534  An artist struggles to finish his work while a...  ...   360.0   \n",
              "45535  When one of her hits goes wrong, a professiona...  ...    90.0   \n",
              "45536  In a small town live two brothers, one a minis...  ...    87.0   \n",
              "45537  50 years after decriminalisation of homosexual...  ...    75.0   \n",
              "\n",
              "                                        spoken_languages    status  \\\n",
              "0               [{'iso_639_1': 'en', 'name': 'English'}]  Released   \n",
              "1      [{'iso_639_1': 'en', 'name': 'English'}, {'iso...  Released   \n",
              "2               [{'iso_639_1': 'en', 'name': 'English'}]  Released   \n",
              "3               [{'iso_639_1': 'en', 'name': 'English'}]  Released   \n",
              "4               [{'iso_639_1': 'en', 'name': 'English'}]  Released   \n",
              "...                                                  ...       ...   \n",
              "45533             [{'iso_639_1': 'fa', 'name': 'فارسی'}]  Released   \n",
              "45534                  [{'iso_639_1': 'tl', 'name': ''}]  Released   \n",
              "45535           [{'iso_639_1': 'en', 'name': 'English'}]  Released   \n",
              "45536                                                 []  Released   \n",
              "45537           [{'iso_639_1': 'en', 'name': 'English'}]  Released   \n",
              "\n",
              "                                                 tagline  \\\n",
              "0                                                    NaN   \n",
              "1              Roll the dice and unleash the excitement!   \n",
              "2      Still Yelling. Still Fighting. Still Ready for...   \n",
              "3      Friends are the people who let you be yourself...   \n",
              "4      Just When His World Is Back To Normal... He's ...   \n",
              "...                                                  ...   \n",
              "45533         Rising and falling between a man and woman   \n",
              "45534                                                NaN   \n",
              "45535                             A deadly game of wits.   \n",
              "45536                                                NaN   \n",
              "45537                                                NaN   \n",
              "\n",
              "                             title  video  vote_average vote_count  \\\n",
              "0                        Toy Story  False           7.7     5415.0   \n",
              "1                          Jumanji  False           6.9     2413.0   \n",
              "2                 Grumpier Old Men  False           6.5       92.0   \n",
              "3                Waiting to Exhale  False           6.1       34.0   \n",
              "4      Father of the Bride Part II  False           5.7      173.0   \n",
              "...                            ...    ...           ...        ...   \n",
              "45533                       Subdue  False           4.0        1.0   \n",
              "45534          Century of Birthing  False           9.0        3.0   \n",
              "45535                     Betrayal  False           3.8        6.0   \n",
              "45536             Satan Triumphant  False           0.0        0.0   \n",
              "45537                     Queerama  False           0.0        0.0   \n",
              "\n",
              "                                                    cast  \\\n",
              "0      [{'cast_id': 14, 'character': 'Woody (voice)',...   \n",
              "1      [{'cast_id': 1, 'character': 'Alan Parrish', '...   \n",
              "2      [{'cast_id': 2, 'character': 'Max Goldman', 'c...   \n",
              "3      [{'cast_id': 1, 'character': \"Savannah 'Vannah...   \n",
              "4      [{'cast_id': 1, 'character': 'George Banks', '...   \n",
              "...                                                  ...   \n",
              "45533  [{'cast_id': 0, 'character': '', 'credit_id': ...   \n",
              "45534  [{'cast_id': 1002, 'character': 'Sister Angela...   \n",
              "45535  [{'cast_id': 6, 'character': 'Emily Shaw', 'cr...   \n",
              "45536  [{'cast_id': 2, 'character': '', 'credit_id': ...   \n",
              "45537                                                 []   \n",
              "\n",
              "                                                    crew  \n",
              "0      [{'credit_id': '52fe4284c3a36847f8024f49', 'de...  \n",
              "1      [{'credit_id': '52fe44bfc3a36847f80a7cd1', 'de...  \n",
              "2      [{'credit_id': '52fe466a9251416c75077a89', 'de...  \n",
              "3      [{'credit_id': '52fe44779251416c91011acb', 'de...  \n",
              "4      [{'credit_id': '52fe44959251416c75039ed7', 'de...  \n",
              "...                                                  ...  \n",
              "45533  [{'credit_id': '5894a97d925141426c00818c', 'de...  \n",
              "45534  [{'credit_id': '52fe4af1c3a36847f81e9b15', 'de...  \n",
              "45535  [{'credit_id': '52fe4776c3a368484e0c8387', 'de...  \n",
              "45536  [{'credit_id': '533bccebc3a36844cf0011a7', 'de...  \n",
              "45537  [{'credit_id': '593e676c92514105b702e68e', 'de...  \n",
              "\n",
              "[45538 rows x 26 columns]"
            ],
            "text/html": [
              "\n",
              "  <div id=\"df-feea1862-d15f-4f3e-ac12-fd505d6bbc86\">\n",
              "    <div class=\"colab-df-container\">\n",
              "      <div>\n",
              "<style scoped>\n",
              "    .dataframe tbody tr th:only-of-type {\n",
              "        vertical-align: middle;\n",
              "    }\n",
              "\n",
              "    .dataframe tbody tr th {\n",
              "        vertical-align: top;\n",
              "    }\n",
              "\n",
              "    .dataframe thead th {\n",
              "        text-align: right;\n",
              "    }\n",
              "</style>\n",
              "<table border=\"1\" class=\"dataframe\">\n",
              "  <thead>\n",
              "    <tr style=\"text-align: right;\">\n",
              "      <th></th>\n",
              "      <th>adult</th>\n",
              "      <th>belongs_to_collection</th>\n",
              "      <th>budget</th>\n",
              "      <th>genres</th>\n",
              "      <th>homepage</th>\n",
              "      <th>id</th>\n",
              "      <th>imdb_id</th>\n",
              "      <th>original_language</th>\n",
              "      <th>original_title</th>\n",
              "      <th>overview</th>\n",
              "      <th>...</th>\n",
              "      <th>runtime</th>\n",
              "      <th>spoken_languages</th>\n",
              "      <th>status</th>\n",
              "      <th>tagline</th>\n",
              "      <th>title</th>\n",
              "      <th>video</th>\n",
              "      <th>vote_average</th>\n",
              "      <th>vote_count</th>\n",
              "      <th>cast</th>\n",
              "      <th>crew</th>\n",
              "    </tr>\n",
              "  </thead>\n",
              "  <tbody>\n",
              "    <tr>\n",
              "      <th>0</th>\n",
              "      <td>False</td>\n",
              "      <td>{'id': 10194, 'name': 'Toy Story Collection', ...</td>\n",
              "      <td>30000000</td>\n",
              "      <td>[{'id': 16, 'name': 'Animation'}, {'id': 35, '...</td>\n",
              "      <td>http://toystory.disney.com/toy-story</td>\n",
              "      <td>862</td>\n",
              "      <td>tt0114709</td>\n",
              "      <td>en</td>\n",
              "      <td>Toy Story</td>\n",
              "      <td>Led by Woody, Andy's toys live happily in his ...</td>\n",
              "      <td>...</td>\n",
              "      <td>81.0</td>\n",
              "      <td>[{'iso_639_1': 'en', 'name': 'English'}]</td>\n",
              "      <td>Released</td>\n",
              "      <td>NaN</td>\n",
              "      <td>Toy Story</td>\n",
              "      <td>False</td>\n",
              "      <td>7.7</td>\n",
              "      <td>5415.0</td>\n",
              "      <td>[{'cast_id': 14, 'character': 'Woody (voice)',...</td>\n",
              "      <td>[{'credit_id': '52fe4284c3a36847f8024f49', 'de...</td>\n",
              "    </tr>\n",
              "    <tr>\n",
              "      <th>1</th>\n",
              "      <td>False</td>\n",
              "      <td>NaN</td>\n",
              "      <td>65000000</td>\n",
              "      <td>[{'id': 12, 'name': 'Adventure'}, {'id': 14, '...</td>\n",
              "      <td>NaN</td>\n",
              "      <td>8844</td>\n",
              "      <td>tt0113497</td>\n",
              "      <td>en</td>\n",
              "      <td>Jumanji</td>\n",
              "      <td>When siblings Judy and Peter discover an encha...</td>\n",
              "      <td>...</td>\n",
              "      <td>104.0</td>\n",
              "      <td>[{'iso_639_1': 'en', 'name': 'English'}, {'iso...</td>\n",
              "      <td>Released</td>\n",
              "      <td>Roll the dice and unleash the excitement!</td>\n",
              "      <td>Jumanji</td>\n",
              "      <td>False</td>\n",
              "      <td>6.9</td>\n",
              "      <td>2413.0</td>\n",
              "      <td>[{'cast_id': 1, 'character': 'Alan Parrish', '...</td>\n",
              "      <td>[{'credit_id': '52fe44bfc3a36847f80a7cd1', 'de...</td>\n",
              "    </tr>\n",
              "    <tr>\n",
              "      <th>2</th>\n",
              "      <td>False</td>\n",
              "      <td>{'id': 119050, 'name': 'Grumpy Old Men Collect...</td>\n",
              "      <td>0</td>\n",
              "      <td>[{'id': 10749, 'name': 'Romance'}, {'id': 35, ...</td>\n",
              "      <td>NaN</td>\n",
              "      <td>15602</td>\n",
              "      <td>tt0113228</td>\n",
              "      <td>en</td>\n",
              "      <td>Grumpier Old Men</td>\n",
              "      <td>A family wedding reignites the ancient feud be...</td>\n",
              "      <td>...</td>\n",
              "      <td>101.0</td>\n",
              "      <td>[{'iso_639_1': 'en', 'name': 'English'}]</td>\n",
              "      <td>Released</td>\n",
              "      <td>Still Yelling. Still Fighting. Still Ready for...</td>\n",
              "      <td>Grumpier Old Men</td>\n",
              "      <td>False</td>\n",
              "      <td>6.5</td>\n",
              "      <td>92.0</td>\n",
              "      <td>[{'cast_id': 2, 'character': 'Max Goldman', 'c...</td>\n",
              "      <td>[{'credit_id': '52fe466a9251416c75077a89', 'de...</td>\n",
              "    </tr>\n",
              "    <tr>\n",
              "      <th>3</th>\n",
              "      <td>False</td>\n",
              "      <td>NaN</td>\n",
              "      <td>16000000</td>\n",
              "      <td>[{'id': 35, 'name': 'Comedy'}, {'id': 18, 'nam...</td>\n",
              "      <td>NaN</td>\n",
              "      <td>31357</td>\n",
              "      <td>tt0114885</td>\n",
              "      <td>en</td>\n",
              "      <td>Waiting to Exhale</td>\n",
              "      <td>Cheated on, mistreated and stepped on, the wom...</td>\n",
              "      <td>...</td>\n",
              "      <td>127.0</td>\n",
              "      <td>[{'iso_639_1': 'en', 'name': 'English'}]</td>\n",
              "      <td>Released</td>\n",
              "      <td>Friends are the people who let you be yourself...</td>\n",
              "      <td>Waiting to Exhale</td>\n",
              "      <td>False</td>\n",
              "      <td>6.1</td>\n",
              "      <td>34.0</td>\n",
              "      <td>[{'cast_id': 1, 'character': \"Savannah 'Vannah...</td>\n",
              "      <td>[{'credit_id': '52fe44779251416c91011acb', 'de...</td>\n",
              "    </tr>\n",
              "    <tr>\n",
              "      <th>4</th>\n",
              "      <td>False</td>\n",
              "      <td>{'id': 96871, 'name': 'Father of the Bride Col...</td>\n",
              "      <td>0</td>\n",
              "      <td>[{'id': 35, 'name': 'Comedy'}]</td>\n",
              "      <td>NaN</td>\n",
              "      <td>11862</td>\n",
              "      <td>tt0113041</td>\n",
              "      <td>en</td>\n",
              "      <td>Father of the Bride Part II</td>\n",
              "      <td>Just when George Banks has recovered from his ...</td>\n",
              "      <td>...</td>\n",
              "      <td>106.0</td>\n",
              "      <td>[{'iso_639_1': 'en', 'name': 'English'}]</td>\n",
              "      <td>Released</td>\n",
              "      <td>Just When His World Is Back To Normal... He's ...</td>\n",
              "      <td>Father of the Bride Part II</td>\n",
              "      <td>False</td>\n",
              "      <td>5.7</td>\n",
              "      <td>173.0</td>\n",
              "      <td>[{'cast_id': 1, 'character': 'George Banks', '...</td>\n",
              "      <td>[{'credit_id': '52fe44959251416c75039ed7', 'de...</td>\n",
              "    </tr>\n",
              "    <tr>\n",
              "      <th>...</th>\n",
              "      <td>...</td>\n",
              "      <td>...</td>\n",
              "      <td>...</td>\n",
              "      <td>...</td>\n",
              "      <td>...</td>\n",
              "      <td>...</td>\n",
              "      <td>...</td>\n",
              "      <td>...</td>\n",
              "      <td>...</td>\n",
              "      <td>...</td>\n",
              "      <td>...</td>\n",
              "      <td>...</td>\n",
              "      <td>...</td>\n",
              "      <td>...</td>\n",
              "      <td>...</td>\n",
              "      <td>...</td>\n",
              "      <td>...</td>\n",
              "      <td>...</td>\n",
              "      <td>...</td>\n",
              "      <td>...</td>\n",
              "      <td>...</td>\n",
              "    </tr>\n",
              "    <tr>\n",
              "      <th>45533</th>\n",
              "      <td>False</td>\n",
              "      <td>NaN</td>\n",
              "      <td>0</td>\n",
              "      <td>[{'id': 18, 'name': 'Drama'}, {'id': 10751, 'n...</td>\n",
              "      <td>http://www.imdb.com/title/tt6209470/</td>\n",
              "      <td>439050</td>\n",
              "      <td>tt6209470</td>\n",
              "      <td>fa</td>\n",
              "      <td>رگ خواب</td>\n",
              "      <td>Rising and falling between a man and woman.</td>\n",
              "      <td>...</td>\n",
              "      <td>90.0</td>\n",
              "      <td>[{'iso_639_1': 'fa', 'name': 'فارسی'}]</td>\n",
              "      <td>Released</td>\n",
              "      <td>Rising and falling between a man and woman</td>\n",
              "      <td>Subdue</td>\n",
              "      <td>False</td>\n",
              "      <td>4.0</td>\n",
              "      <td>1.0</td>\n",
              "      <td>[{'cast_id': 0, 'character': '', 'credit_id': ...</td>\n",
              "      <td>[{'credit_id': '5894a97d925141426c00818c', 'de...</td>\n",
              "    </tr>\n",
              "    <tr>\n",
              "      <th>45534</th>\n",
              "      <td>False</td>\n",
              "      <td>NaN</td>\n",
              "      <td>0</td>\n",
              "      <td>[{'id': 18, 'name': 'Drama'}]</td>\n",
              "      <td>NaN</td>\n",
              "      <td>111109</td>\n",
              "      <td>tt2028550</td>\n",
              "      <td>tl</td>\n",
              "      <td>Siglo ng Pagluluwal</td>\n",
              "      <td>An artist struggles to finish his work while a...</td>\n",
              "      <td>...</td>\n",
              "      <td>360.0</td>\n",
              "      <td>[{'iso_639_1': 'tl', 'name': ''}]</td>\n",
              "      <td>Released</td>\n",
              "      <td>NaN</td>\n",
              "      <td>Century of Birthing</td>\n",
              "      <td>False</td>\n",
              "      <td>9.0</td>\n",
              "      <td>3.0</td>\n",
              "      <td>[{'cast_id': 1002, 'character': 'Sister Angela...</td>\n",
              "      <td>[{'credit_id': '52fe4af1c3a36847f81e9b15', 'de...</td>\n",
              "    </tr>\n",
              "    <tr>\n",
              "      <th>45535</th>\n",
              "      <td>False</td>\n",
              "      <td>NaN</td>\n",
              "      <td>0</td>\n",
              "      <td>[{'id': 28, 'name': 'Action'}, {'id': 18, 'nam...</td>\n",
              "      <td>NaN</td>\n",
              "      <td>67758</td>\n",
              "      <td>tt0303758</td>\n",
              "      <td>en</td>\n",
              "      <td>Betrayal</td>\n",
              "      <td>When one of her hits goes wrong, a professiona...</td>\n",
              "      <td>...</td>\n",
              "      <td>90.0</td>\n",
              "      <td>[{'iso_639_1': 'en', 'name': 'English'}]</td>\n",
              "      <td>Released</td>\n",
              "      <td>A deadly game of wits.</td>\n",
              "      <td>Betrayal</td>\n",
              "      <td>False</td>\n",
              "      <td>3.8</td>\n",
              "      <td>6.0</td>\n",
              "      <td>[{'cast_id': 6, 'character': 'Emily Shaw', 'cr...</td>\n",
              "      <td>[{'credit_id': '52fe4776c3a368484e0c8387', 'de...</td>\n",
              "    </tr>\n",
              "    <tr>\n",
              "      <th>45536</th>\n",
              "      <td>False</td>\n",
              "      <td>NaN</td>\n",
              "      <td>0</td>\n",
              "      <td>[]</td>\n",
              "      <td>NaN</td>\n",
              "      <td>227506</td>\n",
              "      <td>tt0008536</td>\n",
              "      <td>en</td>\n",
              "      <td>Satana likuyushchiy</td>\n",
              "      <td>In a small town live two brothers, one a minis...</td>\n",
              "      <td>...</td>\n",
              "      <td>87.0</td>\n",
              "      <td>[]</td>\n",
              "      <td>Released</td>\n",
              "      <td>NaN</td>\n",
              "      <td>Satan Triumphant</td>\n",
              "      <td>False</td>\n",
              "      <td>0.0</td>\n",
              "      <td>0.0</td>\n",
              "      <td>[{'cast_id': 2, 'character': '', 'credit_id': ...</td>\n",
              "      <td>[{'credit_id': '533bccebc3a36844cf0011a7', 'de...</td>\n",
              "    </tr>\n",
              "    <tr>\n",
              "      <th>45537</th>\n",
              "      <td>False</td>\n",
              "      <td>NaN</td>\n",
              "      <td>0</td>\n",
              "      <td>[]</td>\n",
              "      <td>NaN</td>\n",
              "      <td>461257</td>\n",
              "      <td>tt6980792</td>\n",
              "      <td>en</td>\n",
              "      <td>Queerama</td>\n",
              "      <td>50 years after decriminalisation of homosexual...</td>\n",
              "      <td>...</td>\n",
              "      <td>75.0</td>\n",
              "      <td>[{'iso_639_1': 'en', 'name': 'English'}]</td>\n",
              "      <td>Released</td>\n",
              "      <td>NaN</td>\n",
              "      <td>Queerama</td>\n",
              "      <td>False</td>\n",
              "      <td>0.0</td>\n",
              "      <td>0.0</td>\n",
              "      <td>[]</td>\n",
              "      <td>[{'credit_id': '593e676c92514105b702e68e', 'de...</td>\n",
              "    </tr>\n",
              "  </tbody>\n",
              "</table>\n",
              "<p>45538 rows × 26 columns</p>\n",
              "</div>\n",
              "      <button class=\"colab-df-convert\" onclick=\"convertToInteractive('df-feea1862-d15f-4f3e-ac12-fd505d6bbc86')\"\n",
              "              title=\"Convert this dataframe to an interactive table.\"\n",
              "              style=\"display:none;\">\n",
              "        \n",
              "  <svg xmlns=\"http://www.w3.org/2000/svg\" height=\"24px\"viewBox=\"0 0 24 24\"\n",
              "       width=\"24px\">\n",
              "    <path d=\"M0 0h24v24H0V0z\" fill=\"none\"/>\n",
              "    <path d=\"M18.56 5.44l.94 2.06.94-2.06 2.06-.94-2.06-.94-.94-2.06-.94 2.06-2.06.94zm-11 1L8.5 8.5l.94-2.06 2.06-.94-2.06-.94L8.5 2.5l-.94 2.06-2.06.94zm10 10l.94 2.06.94-2.06 2.06-.94-2.06-.94-.94-2.06-.94 2.06-2.06.94z\"/><path d=\"M17.41 7.96l-1.37-1.37c-.4-.4-.92-.59-1.43-.59-.52 0-1.04.2-1.43.59L10.3 9.45l-7.72 7.72c-.78.78-.78 2.05 0 2.83L4 21.41c.39.39.9.59 1.41.59.51 0 1.02-.2 1.41-.59l7.78-7.78 2.81-2.81c.8-.78.8-2.07 0-2.86zM5.41 20L4 18.59l7.72-7.72 1.47 1.35L5.41 20z\"/>\n",
              "  </svg>\n",
              "      </button>\n",
              "      \n",
              "  <style>\n",
              "    .colab-df-container {\n",
              "      display:flex;\n",
              "      flex-wrap:wrap;\n",
              "      gap: 12px;\n",
              "    }\n",
              "\n",
              "    .colab-df-convert {\n",
              "      background-color: #E8F0FE;\n",
              "      border: none;\n",
              "      border-radius: 50%;\n",
              "      cursor: pointer;\n",
              "      display: none;\n",
              "      fill: #1967D2;\n",
              "      height: 32px;\n",
              "      padding: 0 0 0 0;\n",
              "      width: 32px;\n",
              "    }\n",
              "\n",
              "    .colab-df-convert:hover {\n",
              "      background-color: #E2EBFA;\n",
              "      box-shadow: 0px 1px 2px rgba(60, 64, 67, 0.3), 0px 1px 3px 1px rgba(60, 64, 67, 0.15);\n",
              "      fill: #174EA6;\n",
              "    }\n",
              "\n",
              "    [theme=dark] .colab-df-convert {\n",
              "      background-color: #3B4455;\n",
              "      fill: #D2E3FC;\n",
              "    }\n",
              "\n",
              "    [theme=dark] .colab-df-convert:hover {\n",
              "      background-color: #434B5C;\n",
              "      box-shadow: 0px 1px 3px 1px rgba(0, 0, 0, 0.15);\n",
              "      filter: drop-shadow(0px 1px 2px rgba(0, 0, 0, 0.3));\n",
              "      fill: #FFFFFF;\n",
              "    }\n",
              "  </style>\n",
              "\n",
              "      <script>\n",
              "        const buttonEl =\n",
              "          document.querySelector('#df-feea1862-d15f-4f3e-ac12-fd505d6bbc86 button.colab-df-convert');\n",
              "        buttonEl.style.display =\n",
              "          google.colab.kernel.accessAllowed ? 'block' : 'none';\n",
              "\n",
              "        async function convertToInteractive(key) {\n",
              "          const element = document.querySelector('#df-feea1862-d15f-4f3e-ac12-fd505d6bbc86');\n",
              "          const dataTable =\n",
              "            await google.colab.kernel.invokeFunction('convertToInteractive',\n",
              "                                                     [key], {});\n",
              "          if (!dataTable) return;\n",
              "\n",
              "          const docLinkHtml = 'Like what you see? Visit the ' +\n",
              "            '<a target=\"_blank\" href=https://colab.research.google.com/notebooks/data_table.ipynb>data table notebook</a>'\n",
              "            + ' to learn more about interactive tables.';\n",
              "          element.innerHTML = '';\n",
              "          dataTable['output_type'] = 'display_data';\n",
              "          await google.colab.output.renderOutput(dataTable, element);\n",
              "          const docLink = document.createElement('div');\n",
              "          docLink.innerHTML = docLinkHtml;\n",
              "          element.appendChild(docLink);\n",
              "        }\n",
              "      </script>\n",
              "    </div>\n",
              "  </div>\n",
              "  "
            ]
          },
          "metadata": {},
          "execution_count": 3
        }
      ],
      "source": [
        "#Hacemos un merge con el id\n",
        "df_complete = pd.merge(df, df_comp, how='inner', on='id')\n",
        "df_complete"
      ]
    },
    {
      "cell_type": "code",
      "execution_count": null,
      "metadata": {
        "id": "Z1U-aL0dlWpe"
      },
      "outputs": [],
      "source": [
        "df_complete['genre'] = df_complete['genres'].apply(lambda x: [i['name'] for i in eval(x)])\n",
        "df_complete['genre'] = df_complete['genre'].apply(lambda x: [i.replace(\" \", \"\") for i in x])\n",
        "df_complete['genre'] = df_complete['genre'].apply(lambda x: ' '.join(x))\n",
        "df_complete.drop('genres', axis=1, inplace=True)"
      ]
    },
    {
      "cell_type": "code",
      "execution_count": null,
      "metadata": {
        "id": "1g4HJoRmltww"
      },
      "outputs": [],
      "source": [
        "# Para un modelo mas potente podemos usar los principales actores (***)\n",
        "#df_complete['cast'] = df_complete['cast'].apply(lambda x: [i['name'] for i in eval(x)])\n",
        "# df_complete['cast'] = df_complete['cast'].apply(lambda x: ' '.join([i.replace(\" \", \"\") for i in x]))"
      ]
    },
    {
      "cell_type": "code",
      "source": [
        "#veamos cuales son las peliculas en ingles\n",
        "#df_complete['original_language']=='en'"
      ],
      "metadata": {
        "id": "qJv2lgNlccI1"
      },
      "execution_count": null,
      "outputs": []
    },
    {
      "cell_type": "code",
      "source": [
        "# Para un modelo mas potente podemos usar los principales actores (***)\n",
        "# #para solo tener los actores principales\n",
        "# df_complete['cast'] = df_complete['cast'].apply(lambda x: ' '.join(x.split()[:3]))\n",
        "\n",
        "# # Mostrar el resultado\n",
        "# print(df_complete['cast'])\n"
      ],
      "metadata": {
        "id": "3MOlsh3hacs8"
      },
      "execution_count": null,
      "outputs": []
    },
    {
      "cell_type": "code",
      "source": [
        "from datetime import datetime\n",
        "# Convertir la columna 'Fecha' al formato datetime\n",
        "df_complete['release_date'] = pd.to_datetime(df_complete['release_date'])\n",
        "\n",
        "# Filtrar el dataframe a partir de la columna 'Fecha' y la fecha '1990-01-01'\n",
        "fecha_filtro = datetime.strptime('1990-01-01', '%Y-%m-%d')\n",
        "df_filtrado = df_complete[df_complete['release_date'] >= fecha_filtro]\n",
        "\n",
        "# Imprimir el dataframe filtrado\n",
        "#print(df_filtrado)"
      ],
      "metadata": {
        "id": "GBe1-UvoGCrn"
      },
      "execution_count": null,
      "outputs": []
    },
    {
      "cell_type": "code",
      "source": [
        "#df_filtrado"
      ],
      "metadata": {
        "id": "NS_uA2GLPpVp"
      },
      "execution_count": null,
      "outputs": []
    },
    {
      "cell_type": "code",
      "source": [
        "df_complete= df_filtrado"
      ],
      "metadata": {
        "id": "DrnGIkfMHD76"
      },
      "execution_count": null,
      "outputs": []
    },
    {
      "cell_type": "code",
      "source": [
        "#df_complete"
      ],
      "metadata": {
        "id": "-xR9GmlFPzdQ"
      },
      "execution_count": null,
      "outputs": []
    },
    {
      "cell_type": "code",
      "source": [
        "# Filtrar el dataframe a partir de la columna 'vote_average' con valor mínimo de 6\n",
        "df_filtrado = df_complete[df_complete['vote_average'] >= 6]"
      ],
      "metadata": {
        "id": "Cw4PcvHwNgbD"
      },
      "execution_count": null,
      "outputs": []
    },
    {
      "cell_type": "code",
      "source": [
        "#df_filtrado"
      ],
      "metadata": {
        "id": "jZhi5V9iP48q"
      },
      "execution_count": null,
      "outputs": []
    },
    {
      "cell_type": "code",
      "source": [
        "df_complete = df_filtrado"
      ],
      "metadata": {
        "id": "eZtZnjGUNqpu"
      },
      "execution_count": null,
      "outputs": []
    },
    {
      "cell_type": "code",
      "source": [
        "#df_complete.info()"
      ],
      "metadata": {
        "id": "ZguH3RmKEF2c"
      },
      "execution_count": null,
      "outputs": []
    },
    {
      "cell_type": "code",
      "execution_count": null,
      "metadata": {
        "id": "W3FoqNyOl1jw"
      },
      "outputs": [],
      "source": [
        "#Aqui tenemos parametros posibles que han funcionado pero por falta de computo o de memoria de git no se usaron\n",
        "#df_complete['tags'] = df_complete['overview']+' '+df_complete['cast']+' '+df_complete['genre']+' '+df_complete['original_title']\n",
        "#este si jalo hasta con 20000 entradas df_complete['tags'] = df_complete['genre']+' '+df_complete['original_title']\n",
        "#este jalo hasta con 30000\n",
        "#este jalo muy bien:df_complete['tags'] = df_complete['overview']+' '+df_complete['cast']+' '+df_complete['genre']+' '+df_complete['original_title']\n",
        "#hagamos uno sin actores para reducir el peso\n",
        "####____ la ultima que jalo muy bien: df_complete['tags'] = df_complete['overview']+' '+df_complete['genre']+' '+df_complete['original_title']\n",
        "df_complete['tags'] = df_complete['genre']+' '+df_complete['original_title']"
      ]
    },
    {
      "cell_type": "code",
      "execution_count": null,
      "metadata": {
        "id": "BxG0npIMl4Hg"
      },
      "outputs": [],
      "source": [
        "#df_complete"
      ]
    },
    {
      "cell_type": "code",
      "execution_count": null,
      "metadata": {
        "id": "0uFGlLXQl-B4"
      },
      "outputs": [],
      "source": [
        "#movies_df.drop(['genre', 'original_title', 'keywords', 'cast', 'overview'], axis=1, inplace=True)"
      ]
    },
    {
      "cell_type": "code",
      "execution_count": null,
      "metadata": {
        "id": "jO-joY88mw_3"
      },
      "outputs": [],
      "source": [
        "df = df_complete[['id','title','tags', 'original_language']]"
      ]
    },
    {
      "cell_type": "code",
      "source": [
        "#df.info()"
      ],
      "metadata": {
        "id": "lq1Rs5QSdwAt"
      },
      "execution_count": null,
      "outputs": []
    },
    {
      "cell_type": "code",
      "execution_count": null,
      "metadata": {
        "id": "T69q0ROYnOn9"
      },
      "outputs": [],
      "source": [
        "#df"
      ]
    },
    {
      "cell_type": "code",
      "execution_count": null,
      "metadata": {
        "colab": {
          "base_uri": "https://localhost:8080/"
        },
        "id": "A-n0x_nyn2l_",
        "outputId": "c8aaaa2b-d382-4a8c-b1c8-f405c16a6639"
      },
      "outputs": [
        {
          "output_type": "execute_result",
          "data": {
            "text/plain": [
              "id                   0\n",
              "title                0\n",
              "tags                 0\n",
              "original_language    2\n",
              "dtype: int64"
            ]
          },
          "metadata": {},
          "execution_count": 11
        }
      ],
      "source": [
        "df.isnull().sum()"
      ]
    },
    {
      "cell_type": "code",
      "execution_count": null,
      "metadata": {
        "id": "d4Wqn8ICmD-W",
        "colab": {
          "base_uri": "https://localhost:8080/"
        },
        "outputId": "1f3f4214-586e-42bd-eec9-e931338fc682"
      },
      "outputs": [
        {
          "output_type": "stream",
          "name": "stderr",
          "text": [
            "<ipython-input-12-fbdc3eb44be4>:2: SettingWithCopyWarning: \n",
            "A value is trying to be set on a copy of a slice from a DataFrame\n",
            "\n",
            "See the caveats in the documentation: https://pandas.pydata.org/pandas-docs/stable/user_guide/indexing.html#returning-a-view-versus-a-copy\n",
            "  df.drop(df[df['tags'].isnull()].index, inplace=True)\n"
          ]
        }
      ],
      "source": [
        "#eliminiemos nullos por la poca cantidad de ellos\n",
        "df.drop(df[df['tags'].isnull()].index, inplace=True)"
      ]
    },
    {
      "cell_type": "code",
      "execution_count": null,
      "metadata": {
        "id": "48sDC8NvoXVm",
        "colab": {
          "base_uri": "https://localhost:8080/"
        },
        "outputId": "9af4f987-9006-4dc4-c69a-ef907651a8aa"
      },
      "outputs": [
        {
          "output_type": "stream",
          "name": "stderr",
          "text": [
            "<ipython-input-13-454447df6034>:1: SettingWithCopyWarning: \n",
            "A value is trying to be set on a copy of a slice from a DataFrame\n",
            "\n",
            "See the caveats in the documentation: https://pandas.pydata.org/pandas-docs/stable/user_guide/indexing.html#returning-a-view-versus-a-copy\n",
            "  df.drop(df[df['title'].isnull()].index, inplace=True)\n"
          ]
        }
      ],
      "source": [
        "df.drop(df[df['title'].isnull()].index, inplace=True)"
      ]
    },
    {
      "cell_type": "code",
      "source": [
        "df.drop(df[df['original_language'].isnull()].index, inplace=True)"
      ],
      "metadata": {
        "id": "utjhgowceigA",
        "colab": {
          "base_uri": "https://localhost:8080/"
        },
        "outputId": "bb3bb667-38d5-4dfb-bda0-220a431818f9"
      },
      "execution_count": null,
      "outputs": [
        {
          "output_type": "stream",
          "name": "stderr",
          "text": [
            "<ipython-input-14-9347b0dbe670>:1: SettingWithCopyWarning: \n",
            "A value is trying to be set on a copy of a slice from a DataFrame\n",
            "\n",
            "See the caveats in the documentation: https://pandas.pydata.org/pandas-docs/stable/user_guide/indexing.html#returning-a-view-versus-a-copy\n",
            "  df.drop(df[df['original_language'].isnull()].index, inplace=True)\n"
          ]
        }
      ]
    },
    {
      "cell_type": "code",
      "source": [
        "#filtrar por idioma ingles\n",
        "df = df.loc[df['original_language'].str.contains('en')]"
      ],
      "metadata": {
        "id": "JxJmizRpdcfW"
      },
      "execution_count": null,
      "outputs": []
    },
    {
      "cell_type": "code",
      "source": [
        "#eliminar la columna de idioma porque ya no se va a ocupar\n",
        "df.drop('original_language', axis=1, inplace=True)"
      ],
      "metadata": {
        "id": "1CUUh88NffxT"
      },
      "execution_count": null,
      "outputs": []
    },
    {
      "cell_type": "code",
      "execution_count": null,
      "metadata": {
        "id": "x1r8m7dzoit8"
      },
      "outputs": [],
      "source": [
        "df.drop_duplicates(inplace=True)"
      ]
    },
    {
      "cell_type": "code",
      "source": [
        "df.info()"
      ],
      "metadata": {
        "colab": {
          "base_uri": "https://localhost:8080/"
        },
        "id": "ZM6R9pc0eqaA",
        "outputId": "42d7de7f-2e03-4d90-edb0-af0fce311176"
      },
      "execution_count": null,
      "outputs": [
        {
          "output_type": "stream",
          "name": "stdout",
          "text": [
            "<class 'pandas.core.frame.DataFrame'>\n",
            "Int64Index: 9951 entries, 0 to 45530\n",
            "Data columns (total 3 columns):\n",
            " #   Column  Non-Null Count  Dtype \n",
            "---  ------  --------------  ----- \n",
            " 0   id      9951 non-null   object\n",
            " 1   title   9951 non-null   object\n",
            " 2   tags    9951 non-null   object\n",
            "dtypes: object(3)\n",
            "memory usage: 311.0+ KB\n"
          ]
        }
      ]
    },
    {
      "cell_type": "code",
      "source": [
        "tamaño = df.memory_usage(deep=True).sum()\n",
        "print(tamaño)"
      ],
      "metadata": {
        "colab": {
          "base_uri": "https://localhost:8080/"
        },
        "id": "m6xkSZkYIm2K",
        "outputId": "bf4173fd-0e03-410a-f1a2-e18bba116c62"
      },
      "execution_count": null,
      "outputs": [
        {
          "output_type": "stream",
          "name": "stdout",
          "text": [
            "2361267\n"
          ]
        }
      ]
    },
    {
      "cell_type": "code",
      "source": [
        "#df = df[:20000]"
      ],
      "metadata": {
        "id": "5gUUwvkTS9iN"
      },
      "execution_count": null,
      "outputs": []
    },
    {
      "cell_type": "code",
      "source": [
        "#generamos nuevos indices\n",
        "df = df.reset_index(drop=True)"
      ],
      "metadata": {
        "id": "Bye9z81a3EF_"
      },
      "execution_count": null,
      "outputs": []
    },
    {
      "cell_type": "code",
      "source": [
        "import nltk\n",
        "nltk.download('stopwords')\n",
        "from nltk.corpus import stopwords\n",
        "from nltk.tokenize import word_tokenize\n",
        "\n",
        "nltk.download('punkt')\n",
        "# Obtener las stopwords en el idioma deseado\n",
        "stop_words = set(stopwords.words('english'))  # Puedes cambiar 'es' por otro idioma si es necesario\n",
        "\n",
        "# Función para quitar las stopwords de un texto\n",
        "def remove_stopwords(text):\n",
        "    tokens = word_tokenize(text)\n",
        "    filtered_tokens = [token for token in tokens if token.lower() not in stop_words]\n",
        "    return ' '.join(filtered_tokens)\n",
        "\n",
        "# Supongamos que tienes un DataFrame llamado 'df' con una columna llamada 'texto' que contiene el texto con las stopwords\n",
        "\n",
        "# Aplicar la función remove_stopwords a la columna 'texto'\n",
        "df['tags'] = df['tags'].apply(remove_stopwords)"
      ],
      "metadata": {
        "id": "pVhKTx291IqD",
        "colab": {
          "base_uri": "https://localhost:8080/"
        },
        "outputId": "157871aa-bfb6-4176-83c6-545f07c4fcf8"
      },
      "execution_count": null,
      "outputs": [
        {
          "output_type": "stream",
          "name": "stderr",
          "text": [
            "[nltk_data] Downloading package stopwords to /root/nltk_data...\n",
            "[nltk_data]   Unzipping corpora/stopwords.zip.\n",
            "[nltk_data] Downloading package punkt to /root/nltk_data...\n",
            "[nltk_data]   Unzipping tokenizers/punkt.zip.\n"
          ]
        }
      ]
    },
    {
      "cell_type": "code",
      "source": [
        "#ver el tamaño\n",
        "tamaño = df.memory_usage(deep=True).sum()\n",
        "print(tamaño)"
      ],
      "metadata": {
        "id": "bgbIgywrI8YB",
        "colab": {
          "base_uri": "https://localhost:8080/"
        },
        "outputId": "3104fc57-d26b-4316-a476-e4366b145151"
      },
      "execution_count": null,
      "outputs": [
        {
          "output_type": "stream",
          "name": "stdout",
          "text": [
            "2246171\n"
          ]
        }
      ]
    },
    {
      "cell_type": "code",
      "source": [
        "df.info()"
      ],
      "metadata": {
        "colab": {
          "base_uri": "https://localhost:8080/"
        },
        "id": "Aadi9r8pMaZG",
        "outputId": "fa6bb87c-d552-4605-b3d0-57f25fbec9c2"
      },
      "execution_count": null,
      "outputs": [
        {
          "output_type": "stream",
          "name": "stdout",
          "text": [
            "<class 'pandas.core.frame.DataFrame'>\n",
            "RangeIndex: 9951 entries, 0 to 9950\n",
            "Data columns (total 3 columns):\n",
            " #   Column  Non-Null Count  Dtype \n",
            "---  ------  --------------  ----- \n",
            " 0   id      9951 non-null   object\n",
            " 1   title   9951 non-null   object\n",
            " 2   tags    9951 non-null   object\n",
            "dtypes: object(3)\n",
            "memory usage: 233.4+ KB\n"
          ]
        }
      ]
    },
    {
      "cell_type": "code",
      "source": [
        "# from google.colab import files\n",
        "df.to_excel('archi_chiquito.xlsx', index=False)\n",
        "# files.download('archivo_titulo_genero.xlsx')"
      ],
      "metadata": {
        "id": "qOxgDl-CHXis"
      },
      "execution_count": null,
      "outputs": []
    },
    {
      "cell_type": "code",
      "source": [
        "df.dropna()"
      ],
      "metadata": {
        "colab": {
          "base_uri": "https://localhost:8080/",
          "height": 423
        },
        "id": "-z3iYP5NyxSm",
        "outputId": "26b5f395-3bd8-45c0-bc48-c8fd0ca15afa"
      },
      "execution_count": null,
      "outputs": [
        {
          "output_type": "execute_result",
          "data": {
            "text/plain": [
              "          id                      title  \\\n",
              "0        862                  Toy Story   \n",
              "1       8844                    Jumanji   \n",
              "2      15602           Grumpier Old Men   \n",
              "3      31357          Waiting to Exhale   \n",
              "4        949                       Heat   \n",
              "...      ...                        ...   \n",
              "9946   18098             Arabian Nights   \n",
              "9947  365432                 The Sublet   \n",
              "9948  455661             In a Heartbeat   \n",
              "9949  390959  Shadow of the Blair Witch   \n",
              "9950  289923        The Burkittsville 7   \n",
              "\n",
              "                                           tags  \n",
              "0             Animation Comedy Family Toy Story  \n",
              "1              Adventure Fantasy Family Jumanji  \n",
              "2               Romance Comedy Grumpier Old Men  \n",
              "3           Comedy Drama Romance Waiting Exhale  \n",
              "4              Action Crime Drama Thriller Heat  \n",
              "...                                         ...  \n",
              "9946        Drama Family Fantasy Arabian Nights  \n",
              "9947       Mystery Drama Thriller Horror Sublet  \n",
              "9948  Family Animation Romance Comedy Heartbeat  \n",
              "9949          Mystery Horror Shadow Blair Witch  \n",
              "9950                     Horror Burkittsville 7  \n",
              "\n",
              "[9951 rows x 3 columns]"
            ],
            "text/html": [
              "\n",
              "  <div id=\"df-99ac4329-9fba-489c-9860-538c15ba8954\">\n",
              "    <div class=\"colab-df-container\">\n",
              "      <div>\n",
              "<style scoped>\n",
              "    .dataframe tbody tr th:only-of-type {\n",
              "        vertical-align: middle;\n",
              "    }\n",
              "\n",
              "    .dataframe tbody tr th {\n",
              "        vertical-align: top;\n",
              "    }\n",
              "\n",
              "    .dataframe thead th {\n",
              "        text-align: right;\n",
              "    }\n",
              "</style>\n",
              "<table border=\"1\" class=\"dataframe\">\n",
              "  <thead>\n",
              "    <tr style=\"text-align: right;\">\n",
              "      <th></th>\n",
              "      <th>id</th>\n",
              "      <th>title</th>\n",
              "      <th>tags</th>\n",
              "    </tr>\n",
              "  </thead>\n",
              "  <tbody>\n",
              "    <tr>\n",
              "      <th>0</th>\n",
              "      <td>862</td>\n",
              "      <td>Toy Story</td>\n",
              "      <td>Animation Comedy Family Toy Story</td>\n",
              "    </tr>\n",
              "    <tr>\n",
              "      <th>1</th>\n",
              "      <td>8844</td>\n",
              "      <td>Jumanji</td>\n",
              "      <td>Adventure Fantasy Family Jumanji</td>\n",
              "    </tr>\n",
              "    <tr>\n",
              "      <th>2</th>\n",
              "      <td>15602</td>\n",
              "      <td>Grumpier Old Men</td>\n",
              "      <td>Romance Comedy Grumpier Old Men</td>\n",
              "    </tr>\n",
              "    <tr>\n",
              "      <th>3</th>\n",
              "      <td>31357</td>\n",
              "      <td>Waiting to Exhale</td>\n",
              "      <td>Comedy Drama Romance Waiting Exhale</td>\n",
              "    </tr>\n",
              "    <tr>\n",
              "      <th>4</th>\n",
              "      <td>949</td>\n",
              "      <td>Heat</td>\n",
              "      <td>Action Crime Drama Thriller Heat</td>\n",
              "    </tr>\n",
              "    <tr>\n",
              "      <th>...</th>\n",
              "      <td>...</td>\n",
              "      <td>...</td>\n",
              "      <td>...</td>\n",
              "    </tr>\n",
              "    <tr>\n",
              "      <th>9946</th>\n",
              "      <td>18098</td>\n",
              "      <td>Arabian Nights</td>\n",
              "      <td>Drama Family Fantasy Arabian Nights</td>\n",
              "    </tr>\n",
              "    <tr>\n",
              "      <th>9947</th>\n",
              "      <td>365432</td>\n",
              "      <td>The Sublet</td>\n",
              "      <td>Mystery Drama Thriller Horror Sublet</td>\n",
              "    </tr>\n",
              "    <tr>\n",
              "      <th>9948</th>\n",
              "      <td>455661</td>\n",
              "      <td>In a Heartbeat</td>\n",
              "      <td>Family Animation Romance Comedy Heartbeat</td>\n",
              "    </tr>\n",
              "    <tr>\n",
              "      <th>9949</th>\n",
              "      <td>390959</td>\n",
              "      <td>Shadow of the Blair Witch</td>\n",
              "      <td>Mystery Horror Shadow Blair Witch</td>\n",
              "    </tr>\n",
              "    <tr>\n",
              "      <th>9950</th>\n",
              "      <td>289923</td>\n",
              "      <td>The Burkittsville 7</td>\n",
              "      <td>Horror Burkittsville 7</td>\n",
              "    </tr>\n",
              "  </tbody>\n",
              "</table>\n",
              "<p>9951 rows × 3 columns</p>\n",
              "</div>\n",
              "      <button class=\"colab-df-convert\" onclick=\"convertToInteractive('df-99ac4329-9fba-489c-9860-538c15ba8954')\"\n",
              "              title=\"Convert this dataframe to an interactive table.\"\n",
              "              style=\"display:none;\">\n",
              "        \n",
              "  <svg xmlns=\"http://www.w3.org/2000/svg\" height=\"24px\"viewBox=\"0 0 24 24\"\n",
              "       width=\"24px\">\n",
              "    <path d=\"M0 0h24v24H0V0z\" fill=\"none\"/>\n",
              "    <path d=\"M18.56 5.44l.94 2.06.94-2.06 2.06-.94-2.06-.94-.94-2.06-.94 2.06-2.06.94zm-11 1L8.5 8.5l.94-2.06 2.06-.94-2.06-.94L8.5 2.5l-.94 2.06-2.06.94zm10 10l.94 2.06.94-2.06 2.06-.94-2.06-.94-.94-2.06-.94 2.06-2.06.94z\"/><path d=\"M17.41 7.96l-1.37-1.37c-.4-.4-.92-.59-1.43-.59-.52 0-1.04.2-1.43.59L10.3 9.45l-7.72 7.72c-.78.78-.78 2.05 0 2.83L4 21.41c.39.39.9.59 1.41.59.51 0 1.02-.2 1.41-.59l7.78-7.78 2.81-2.81c.8-.78.8-2.07 0-2.86zM5.41 20L4 18.59l7.72-7.72 1.47 1.35L5.41 20z\"/>\n",
              "  </svg>\n",
              "      </button>\n",
              "      \n",
              "  <style>\n",
              "    .colab-df-container {\n",
              "      display:flex;\n",
              "      flex-wrap:wrap;\n",
              "      gap: 12px;\n",
              "    }\n",
              "\n",
              "    .colab-df-convert {\n",
              "      background-color: #E8F0FE;\n",
              "      border: none;\n",
              "      border-radius: 50%;\n",
              "      cursor: pointer;\n",
              "      display: none;\n",
              "      fill: #1967D2;\n",
              "      height: 32px;\n",
              "      padding: 0 0 0 0;\n",
              "      width: 32px;\n",
              "    }\n",
              "\n",
              "    .colab-df-convert:hover {\n",
              "      background-color: #E2EBFA;\n",
              "      box-shadow: 0px 1px 2px rgba(60, 64, 67, 0.3), 0px 1px 3px 1px rgba(60, 64, 67, 0.15);\n",
              "      fill: #174EA6;\n",
              "    }\n",
              "\n",
              "    [theme=dark] .colab-df-convert {\n",
              "      background-color: #3B4455;\n",
              "      fill: #D2E3FC;\n",
              "    }\n",
              "\n",
              "    [theme=dark] .colab-df-convert:hover {\n",
              "      background-color: #434B5C;\n",
              "      box-shadow: 0px 1px 3px 1px rgba(0, 0, 0, 0.15);\n",
              "      filter: drop-shadow(0px 1px 2px rgba(0, 0, 0, 0.3));\n",
              "      fill: #FFFFFF;\n",
              "    }\n",
              "  </style>\n",
              "\n",
              "      <script>\n",
              "        const buttonEl =\n",
              "          document.querySelector('#df-99ac4329-9fba-489c-9860-538c15ba8954 button.colab-df-convert');\n",
              "        buttonEl.style.display =\n",
              "          google.colab.kernel.accessAllowed ? 'block' : 'none';\n",
              "\n",
              "        async function convertToInteractive(key) {\n",
              "          const element = document.querySelector('#df-99ac4329-9fba-489c-9860-538c15ba8954');\n",
              "          const dataTable =\n",
              "            await google.colab.kernel.invokeFunction('convertToInteractive',\n",
              "                                                     [key], {});\n",
              "          if (!dataTable) return;\n",
              "\n",
              "          const docLinkHtml = 'Like what you see? Visit the ' +\n",
              "            '<a target=\"_blank\" href=https://colab.research.google.com/notebooks/data_table.ipynb>data table notebook</a>'\n",
              "            + ' to learn more about interactive tables.';\n",
              "          element.innerHTML = '';\n",
              "          dataTable['output_type'] = 'display_data';\n",
              "          await google.colab.output.renderOutput(dataTable, element);\n",
              "          const docLink = document.createElement('div');\n",
              "          docLink.innerHTML = docLinkHtml;\n",
              "          element.appendChild(docLink);\n",
              "        }\n",
              "      </script>\n",
              "    </div>\n",
              "  </div>\n",
              "  "
            ]
          },
          "metadata": {},
          "execution_count": 27
        }
      ]
    },
    {
      "cell_type": "code",
      "source": [
        "df.info()"
      ],
      "metadata": {
        "colab": {
          "base_uri": "https://localhost:8080/"
        },
        "id": "M-bHQNLsy5a6",
        "outputId": "44ecd7b3-8fef-4028-f67d-380a51d809f8"
      },
      "execution_count": null,
      "outputs": [
        {
          "output_type": "stream",
          "name": "stdout",
          "text": [
            "<class 'pandas.core.frame.DataFrame'>\n",
            "RangeIndex: 9951 entries, 0 to 9950\n",
            "Data columns (total 3 columns):\n",
            " #   Column  Non-Null Count  Dtype \n",
            "---  ------  --------------  ----- \n",
            " 0   id      9951 non-null   object\n",
            " 1   title   9951 non-null   object\n",
            " 2   tags    9951 non-null   object\n",
            "dtypes: object(3)\n",
            "memory usage: 233.4+ KB\n"
          ]
        }
      ]
    },
    {
      "cell_type": "code",
      "source": [
        "###Aqui epieza el modeloooooo\n",
        "#-------------------------------\n",
        "#********************************"
      ],
      "metadata": {
        "id": "K0xc84PnS3UF"
      },
      "execution_count": null,
      "outputs": []
    },
    {
      "cell_type": "code",
      "execution_count": null,
      "metadata": {
        "id": "8zGd2T31om0d"
      },
      "outputs": [],
      "source": [
        "#vectorizacion\n",
        "from sklearn.feature_extraction.text import TfidfVectorizer"
      ]
    },
    {
      "cell_type": "code",
      "execution_count": null,
      "metadata": {
        "id": "uCHOjKmvosZE"
      },
      "outputs": [],
      "source": [
        "# Common words have less IDF\n",
        "# Unique Words have high IDF\n",
        "#-------tfidf = TfidfVectorizer(max_features=100)#con 100 y 50 en el otro jala\n",
        "tfidf = TfidfVectorizer(max_features=50)"
      ]
    },
    {
      "cell_type": "code",
      "execution_count": null,
      "metadata": {
        "id": "aoAd9nTLotgN"
      },
      "outputs": [],
      "source": [
        "vectorized_data = tfidf.fit_transform(df['tags'].values)"
      ]
    },
    {
      "cell_type": "code",
      "execution_count": null,
      "metadata": {
        "colab": {
          "base_uri": "https://localhost:8080/"
        },
        "id": "bcCfh6pno3iX",
        "outputId": "c99b4de8-778a-4d6a-9d7a-30e2b7db2ef6"
      },
      "outputs": [
        {
          "output_type": "execute_result",
          "data": {
            "text/plain": [
              "array(['action', 'adventure', 'america', 'american', 'animation', 'big',\n",
              "       'black', 'blue', 'christmas', 'city', 'comedy', 'crime', 'dark',\n",
              "       'day', 'days', 'dead', 'documentary', 'drama', 'family', 'fantasy',\n",
              "       'foreign', 'girl', 'history', 'horror', 'king', 'la', 'last',\n",
              "       'life', 'little', 'live', 'lost', 'love', 'man', 'men', 'movie',\n",
              "       'music', 'mystery', 'new', 'night', 'one', 'romance',\n",
              "       'sciencefiction', 'story', 'thriller', 'time', 'tvmovie', 'war',\n",
              "       'western', 'white', 'world'], dtype=object)"
            ]
          },
          "metadata": {},
          "execution_count": 144
        }
      ],
      "source": [
        "tfidf.get_feature_names_out()"
      ]
    },
    {
      "cell_type": "code",
      "execution_count": null,
      "metadata": {
        "id": "9WXS1vkWo7Wa"
      },
      "outputs": [],
      "source": [
        "vectorized_dataframe = pd.DataFrame(vectorized_data.toarray(), index=df['tags'].index.tolist())"
      ]
    },
    {
      "cell_type": "code",
      "execution_count": null,
      "metadata": {
        "colab": {
          "base_uri": "https://localhost:8080/",
          "height": 235
        },
        "id": "-I6rFEo_pCw4",
        "outputId": "3d31fc67-0835-457e-fdd9-a3feb0ae0d7c"
      },
      "outputs": [
        {
          "output_type": "execute_result",
          "data": {
            "text/plain": [
              "         0         1    2    3         4    5    6    7    8    9   ...  \\\n",
              "0  0.000000  0.000000  0.0  0.0  0.485927  0.0  0.0  0.0  0.0  0.0  ...   \n",
              "1  0.000000  0.553688  0.0  0.0  0.000000  0.0  0.0  0.0  0.0  0.0  ...   \n",
              "2  0.000000  0.000000  0.0  0.0  0.000000  0.0  0.0  0.0  0.0  0.0  ...   \n",
              "3  0.000000  0.000000  0.0  0.0  0.000000  0.0  0.0  0.0  0.0  0.0  ...   \n",
              "4  0.552796  0.000000  0.0  0.0  0.000000  0.0  0.0  0.0  0.0  0.0  ...   \n",
              "\n",
              "         40   41        42        43   44   45   46   47   48   49  \n",
              "0  0.000000  0.0  0.685985  0.000000  0.0  0.0  0.0  0.0  0.0  0.0  \n",
              "1  0.000000  0.0  0.000000  0.000000  0.0  0.0  0.0  0.0  0.0  0.0  \n",
              "2  0.399689  0.0  0.000000  0.000000  0.0  0.0  0.0  0.0  0.0  0.0  \n",
              "3  0.714703  0.0  0.000000  0.000000  0.0  0.0  0.0  0.0  0.0  0.0  \n",
              "4  0.000000  0.0  0.000000  0.502596  0.0  0.0  0.0  0.0  0.0  0.0  \n",
              "\n",
              "[5 rows x 50 columns]"
            ],
            "text/html": [
              "\n",
              "  <div id=\"df-61f3c741-b6ac-4679-83fb-05d232980792\">\n",
              "    <div class=\"colab-df-container\">\n",
              "      <div>\n",
              "<style scoped>\n",
              "    .dataframe tbody tr th:only-of-type {\n",
              "        vertical-align: middle;\n",
              "    }\n",
              "\n",
              "    .dataframe tbody tr th {\n",
              "        vertical-align: top;\n",
              "    }\n",
              "\n",
              "    .dataframe thead th {\n",
              "        text-align: right;\n",
              "    }\n",
              "</style>\n",
              "<table border=\"1\" class=\"dataframe\">\n",
              "  <thead>\n",
              "    <tr style=\"text-align: right;\">\n",
              "      <th></th>\n",
              "      <th>0</th>\n",
              "      <th>1</th>\n",
              "      <th>2</th>\n",
              "      <th>3</th>\n",
              "      <th>4</th>\n",
              "      <th>5</th>\n",
              "      <th>6</th>\n",
              "      <th>7</th>\n",
              "      <th>8</th>\n",
              "      <th>9</th>\n",
              "      <th>...</th>\n",
              "      <th>40</th>\n",
              "      <th>41</th>\n",
              "      <th>42</th>\n",
              "      <th>43</th>\n",
              "      <th>44</th>\n",
              "      <th>45</th>\n",
              "      <th>46</th>\n",
              "      <th>47</th>\n",
              "      <th>48</th>\n",
              "      <th>49</th>\n",
              "    </tr>\n",
              "  </thead>\n",
              "  <tbody>\n",
              "    <tr>\n",
              "      <th>0</th>\n",
              "      <td>0.000000</td>\n",
              "      <td>0.000000</td>\n",
              "      <td>0.0</td>\n",
              "      <td>0.0</td>\n",
              "      <td>0.485927</td>\n",
              "      <td>0.0</td>\n",
              "      <td>0.0</td>\n",
              "      <td>0.0</td>\n",
              "      <td>0.0</td>\n",
              "      <td>0.0</td>\n",
              "      <td>...</td>\n",
              "      <td>0.000000</td>\n",
              "      <td>0.0</td>\n",
              "      <td>0.685985</td>\n",
              "      <td>0.000000</td>\n",
              "      <td>0.0</td>\n",
              "      <td>0.0</td>\n",
              "      <td>0.0</td>\n",
              "      <td>0.0</td>\n",
              "      <td>0.0</td>\n",
              "      <td>0.0</td>\n",
              "    </tr>\n",
              "    <tr>\n",
              "      <th>1</th>\n",
              "      <td>0.000000</td>\n",
              "      <td>0.553688</td>\n",
              "      <td>0.0</td>\n",
              "      <td>0.0</td>\n",
              "      <td>0.000000</td>\n",
              "      <td>0.0</td>\n",
              "      <td>0.0</td>\n",
              "      <td>0.0</td>\n",
              "      <td>0.0</td>\n",
              "      <td>0.0</td>\n",
              "      <td>...</td>\n",
              "      <td>0.000000</td>\n",
              "      <td>0.0</td>\n",
              "      <td>0.000000</td>\n",
              "      <td>0.000000</td>\n",
              "      <td>0.0</td>\n",
              "      <td>0.0</td>\n",
              "      <td>0.0</td>\n",
              "      <td>0.0</td>\n",
              "      <td>0.0</td>\n",
              "      <td>0.0</td>\n",
              "    </tr>\n",
              "    <tr>\n",
              "      <th>2</th>\n",
              "      <td>0.000000</td>\n",
              "      <td>0.000000</td>\n",
              "      <td>0.0</td>\n",
              "      <td>0.0</td>\n",
              "      <td>0.000000</td>\n",
              "      <td>0.0</td>\n",
              "      <td>0.0</td>\n",
              "      <td>0.0</td>\n",
              "      <td>0.0</td>\n",
              "      <td>0.0</td>\n",
              "      <td>...</td>\n",
              "      <td>0.399689</td>\n",
              "      <td>0.0</td>\n",
              "      <td>0.000000</td>\n",
              "      <td>0.000000</td>\n",
              "      <td>0.0</td>\n",
              "      <td>0.0</td>\n",
              "      <td>0.0</td>\n",
              "      <td>0.0</td>\n",
              "      <td>0.0</td>\n",
              "      <td>0.0</td>\n",
              "    </tr>\n",
              "    <tr>\n",
              "      <th>3</th>\n",
              "      <td>0.000000</td>\n",
              "      <td>0.000000</td>\n",
              "      <td>0.0</td>\n",
              "      <td>0.0</td>\n",
              "      <td>0.000000</td>\n",
              "      <td>0.0</td>\n",
              "      <td>0.0</td>\n",
              "      <td>0.0</td>\n",
              "      <td>0.0</td>\n",
              "      <td>0.0</td>\n",
              "      <td>...</td>\n",
              "      <td>0.714703</td>\n",
              "      <td>0.0</td>\n",
              "      <td>0.000000</td>\n",
              "      <td>0.000000</td>\n",
              "      <td>0.0</td>\n",
              "      <td>0.0</td>\n",
              "      <td>0.0</td>\n",
              "      <td>0.0</td>\n",
              "      <td>0.0</td>\n",
              "      <td>0.0</td>\n",
              "    </tr>\n",
              "    <tr>\n",
              "      <th>4</th>\n",
              "      <td>0.552796</td>\n",
              "      <td>0.000000</td>\n",
              "      <td>0.0</td>\n",
              "      <td>0.0</td>\n",
              "      <td>0.000000</td>\n",
              "      <td>0.0</td>\n",
              "      <td>0.0</td>\n",
              "      <td>0.0</td>\n",
              "      <td>0.0</td>\n",
              "      <td>0.0</td>\n",
              "      <td>...</td>\n",
              "      <td>0.000000</td>\n",
              "      <td>0.0</td>\n",
              "      <td>0.000000</td>\n",
              "      <td>0.502596</td>\n",
              "      <td>0.0</td>\n",
              "      <td>0.0</td>\n",
              "      <td>0.0</td>\n",
              "      <td>0.0</td>\n",
              "      <td>0.0</td>\n",
              "      <td>0.0</td>\n",
              "    </tr>\n",
              "  </tbody>\n",
              "</table>\n",
              "<p>5 rows × 50 columns</p>\n",
              "</div>\n",
              "      <button class=\"colab-df-convert\" onclick=\"convertToInteractive('df-61f3c741-b6ac-4679-83fb-05d232980792')\"\n",
              "              title=\"Convert this dataframe to an interactive table.\"\n",
              "              style=\"display:none;\">\n",
              "        \n",
              "  <svg xmlns=\"http://www.w3.org/2000/svg\" height=\"24px\"viewBox=\"0 0 24 24\"\n",
              "       width=\"24px\">\n",
              "    <path d=\"M0 0h24v24H0V0z\" fill=\"none\"/>\n",
              "    <path d=\"M18.56 5.44l.94 2.06.94-2.06 2.06-.94-2.06-.94-.94-2.06-.94 2.06-2.06.94zm-11 1L8.5 8.5l.94-2.06 2.06-.94-2.06-.94L8.5 2.5l-.94 2.06-2.06.94zm10 10l.94 2.06.94-2.06 2.06-.94-2.06-.94-.94-2.06-.94 2.06-2.06.94z\"/><path d=\"M17.41 7.96l-1.37-1.37c-.4-.4-.92-.59-1.43-.59-.52 0-1.04.2-1.43.59L10.3 9.45l-7.72 7.72c-.78.78-.78 2.05 0 2.83L4 21.41c.39.39.9.59 1.41.59.51 0 1.02-.2 1.41-.59l7.78-7.78 2.81-2.81c.8-.78.8-2.07 0-2.86zM5.41 20L4 18.59l7.72-7.72 1.47 1.35L5.41 20z\"/>\n",
              "  </svg>\n",
              "      </button>\n",
              "      \n",
              "  <style>\n",
              "    .colab-df-container {\n",
              "      display:flex;\n",
              "      flex-wrap:wrap;\n",
              "      gap: 12px;\n",
              "    }\n",
              "\n",
              "    .colab-df-convert {\n",
              "      background-color: #E8F0FE;\n",
              "      border: none;\n",
              "      border-radius: 50%;\n",
              "      cursor: pointer;\n",
              "      display: none;\n",
              "      fill: #1967D2;\n",
              "      height: 32px;\n",
              "      padding: 0 0 0 0;\n",
              "      width: 32px;\n",
              "    }\n",
              "\n",
              "    .colab-df-convert:hover {\n",
              "      background-color: #E2EBFA;\n",
              "      box-shadow: 0px 1px 2px rgba(60, 64, 67, 0.3), 0px 1px 3px 1px rgba(60, 64, 67, 0.15);\n",
              "      fill: #174EA6;\n",
              "    }\n",
              "\n",
              "    [theme=dark] .colab-df-convert {\n",
              "      background-color: #3B4455;\n",
              "      fill: #D2E3FC;\n",
              "    }\n",
              "\n",
              "    [theme=dark] .colab-df-convert:hover {\n",
              "      background-color: #434B5C;\n",
              "      box-shadow: 0px 1px 3px 1px rgba(0, 0, 0, 0.15);\n",
              "      filter: drop-shadow(0px 1px 2px rgba(0, 0, 0, 0.3));\n",
              "      fill: #FFFFFF;\n",
              "    }\n",
              "  </style>\n",
              "\n",
              "      <script>\n",
              "        const buttonEl =\n",
              "          document.querySelector('#df-61f3c741-b6ac-4679-83fb-05d232980792 button.colab-df-convert');\n",
              "        buttonEl.style.display =\n",
              "          google.colab.kernel.accessAllowed ? 'block' : 'none';\n",
              "\n",
              "        async function convertToInteractive(key) {\n",
              "          const element = document.querySelector('#df-61f3c741-b6ac-4679-83fb-05d232980792');\n",
              "          const dataTable =\n",
              "            await google.colab.kernel.invokeFunction('convertToInteractive',\n",
              "                                                     [key], {});\n",
              "          if (!dataTable) return;\n",
              "\n",
              "          const docLinkHtml = 'Like what you see? Visit the ' +\n",
              "            '<a target=\"_blank\" href=https://colab.research.google.com/notebooks/data_table.ipynb>data table notebook</a>'\n",
              "            + ' to learn more about interactive tables.';\n",
              "          element.innerHTML = '';\n",
              "          dataTable['output_type'] = 'display_data';\n",
              "          await google.colab.output.renderOutput(dataTable, element);\n",
              "          const docLink = document.createElement('div');\n",
              "          docLink.innerHTML = docLinkHtml;\n",
              "          element.appendChild(docLink);\n",
              "        }\n",
              "      </script>\n",
              "    </div>\n",
              "  </div>\n",
              "  "
            ]
          },
          "metadata": {},
          "execution_count": 146
        }
      ],
      "source": [
        "vectorized_dataframe.head()"
      ]
    },
    {
      "cell_type": "code",
      "execution_count": null,
      "metadata": {
        "id": "k6AsAdhypIV3"
      },
      "outputs": [],
      "source": [
        "#reduccion de dimensiones\n",
        "from sklearn.decomposition import TruncatedSVD"
      ]
    },
    {
      "cell_type": "code",
      "execution_count": null,
      "metadata": {
        "id": "jK_Nvh2zpRNZ"
      },
      "outputs": [],
      "source": [
        "svd = TruncatedSVD(n_components=5)\n",
        "\n",
        "reduced_data = svd.fit_transform(vectorized_dataframe)"
      ]
    },
    {
      "cell_type": "code",
      "execution_count": null,
      "metadata": {
        "id": "0uPjCUbipXwK",
        "colab": {
          "base_uri": "https://localhost:8080/"
        },
        "outputId": "2b2b98c6-3763-499f-99ad-5a7455e98df3"
      },
      "outputs": [
        {
          "output_type": "execute_result",
          "data": {
            "text/plain": [
              "array([0.08387004, 0.22495176, 0.34423431, 0.41966988, 0.48000381])"
            ]
          },
          "metadata": {},
          "execution_count": 149
        }
      ],
      "source": [
        "#\n",
        "svd.explained_variance_ratio_.cumsum()"
      ]
    },
    {
      "cell_type": "code",
      "source": [
        "#bajemos el modelo porque sino truena Colab\n",
        "import joblib\n",
        "##########+***********************************\n",
        "# Guardar la matriz reduced_data\n",
        "#########***********joblib.dump(reduced_data, 'reduced_data.pkl')"
      ],
      "metadata": {
        "id": "SpeABICUI0zq"
      },
      "execution_count": null,
      "outputs": []
    },
    {
      "cell_type": "code",
      "execution_count": null,
      "metadata": {
        "id": "WWf1V9KApdep"
      },
      "outputs": [],
      "source": [
        "from sklearn.metrics.pairwise import cosine_similarity"
      ]
    },
    {
      "cell_type": "code",
      "execution_count": null,
      "metadata": {
        "id": "56rvkQBnpfjT"
      },
      "outputs": [],
      "source": [
        "similarity = cosine_similarity(reduced_data)"
      ]
    },
    {
      "cell_type": "code",
      "execution_count": null,
      "metadata": {
        "id": "4tzN-8yEpi8R"
      },
      "outputs": [],
      "source": [
        "def recomendation_system(movie):\n",
        "    id_of_movie = df[df['title']==movie].index[0]\n",
        "    distances = similarity[id_of_movie]\n",
        "    movie_list = sorted(list(enumerate(distances)), reverse=True, key=lambda x:x[1])[1:6]\n",
        "    for movie_id in movie_list:\n",
        "        print(df.iloc[movie_id[0]].title)"
      ]
    },
    {
      "cell_type": "code",
      "execution_count": null,
      "metadata": {
        "id": "pFPPwTXaqbtP"
      },
      "outputs": [],
      "source": [
        "#https://www.kaggle.com/code/muhammadhananasghar/imdb-movies-content-based-recomendation-system"
      ]
    },
    {
      "cell_type": "code",
      "source": [
        "recomendation_system('Pulp Fiction')"
      ],
      "metadata": {
        "id": "eSUCnOzQGD7R",
        "colab": {
          "base_uri": "https://localhost:8080/"
        },
        "outputId": "54b62087-f223-4486-b391-3c398c107f70"
      },
      "execution_count": null,
      "outputs": [
        {
          "output_type": "stream",
          "name": "stdout",
          "text": [
            "Shallow Grave\n",
            "Kalifornia\n",
            "Reservoir Dogs\n",
            "Cape Fear\n",
            "Incognito\n"
          ]
        }
      ]
    },
    {
      "cell_type": "code",
      "source": [
        "recomendation_system('Interstellar')"
      ],
      "metadata": {
        "id": "9jhNSOw_GQPC",
        "colab": {
          "base_uri": "https://localhost:8080/"
        },
        "outputId": "9c6cc6a8-aec1-4296-cbbb-abb89eeede95"
      },
      "execution_count": null,
      "outputs": [
        {
          "output_type": "stream",
          "name": "stdout",
          "text": [
            "Interstellar\n",
            "Midnight Special\n",
            "The Martian\n",
            "Crumbs\n",
            "Poison\n"
          ]
        }
      ]
    },
    {
      "cell_type": "code",
      "source": [
        "recomendation_system('Kung Fu Panda: Secrets of the Furious Five')"
      ],
      "metadata": {
        "colab": {
          "base_uri": "https://localhost:8080/"
        },
        "id": "KxlUY-xJWABu",
        "outputId": "a596fbc3-0152-4132-b685-6836a57fb227"
      },
      "execution_count": null,
      "outputs": [
        {
          "output_type": "stream",
          "name": "stdout",
          "text": [
            "The Wrong Trousers\n",
            "Chicken Run\n",
            "Monsters, Inc.\n",
            "Bébé's Kids\n",
            "Hoodwinked!\n"
          ]
        }
      ]
    },
    {
      "cell_type": "code",
      "source": [
        "recomendation_system('Titanic')"
      ],
      "metadata": {
        "colab": {
          "base_uri": "https://localhost:8080/"
        },
        "id": "i6rZdbPv1SkX",
        "outputId": "665d1509-aad4-4e27-c270-825f2a288895"
      },
      "execution_count": null,
      "outputs": [
        {
          "output_type": "stream",
          "name": "stdout",
          "text": [
            "Fear\n",
            "Crash\n",
            "Titanic\n",
            "Return to Paradise\n",
            "Cruel Intentions\n"
          ]
        }
      ]
    },
    {
      "cell_type": "code",
      "source": [
        "recomendation_system('Toy Story')"
      ],
      "metadata": {
        "colab": {
          "base_uri": "https://localhost:8080/"
        },
        "id": "x4xlBwMe30Tr",
        "outputId": "c12373eb-108e-420c-ad39-5f592d00ab26"
      },
      "execution_count": null,
      "outputs": [
        {
          "output_type": "stream",
          "name": "stdout",
          "text": [
            "Toy Story 2\n",
            "Family Guy Presents Stewie Griffin: The Untold Story\n",
            "Toy Story 3\n",
            "Toy Story of Terror!\n",
            "The SpongeBob SquarePants Movie\n"
          ]
        }
      ]
    },
    {
      "cell_type": "code",
      "source": [
        "# Guardar el modelo con compresión\n",
        "###########************************\n",
        "import joblib\n",
        "joblib.dump(similarity, 'modelo_comprimido.pkl', compress=True)\n",
        "\n",
        "# #otra manera\n",
        "# import pickle\n",
        "\n",
        "# # Guardar el modelo\n",
        "# with open('modelo_similarity.pickle', 'wb') as f:\n",
        "#     pickle.dump(similarity, f)"
      ],
      "metadata": {
        "id": "EAVNzwJyLXm5",
        "colab": {
          "base_uri": "https://localhost:8080/"
        },
        "outputId": "5844c149-a2ab-4076-dc77-bef751c48278"
      },
      "execution_count": null,
      "outputs": [
        {
          "output_type": "execute_result",
          "data": {
            "text/plain": [
              "['modelo_comprimido.pkl']"
            ]
          },
          "metadata": {},
          "execution_count": 160
        }
      ]
    },
    {
      "cell_type": "code",
      "source": [
        "# #abrir el modele\n",
        "# import joblib\n",
        "# from sklearn.metrics.pairwise import cosine_similarity\n",
        "\n",
        "# # Cargar la matriz de similitud del coseno\n",
        "# similarity = joblib.load('modelo_comprimido.pkl')"
      ],
      "metadata": {
        "id": "nBtAiv_DRDkP"
      },
      "execution_count": null,
      "outputs": []
    },
    {
      "cell_type": "code",
      "source": [
        "# # Guarda el DataFrame en formato Excel\n",
        "# df.to_excel('df.xlsx', index=False)"
      ],
      "metadata": {
        "id": "e3fqsZAANbRQ"
      },
      "execution_count": null,
      "outputs": []
    },
    {
      "cell_type": "code",
      "source": [
        "# from google.colab import files\n",
        "\n",
        "\n",
        "# # Guarda el DataFrame en un archivo Excel en formato .xlsx\n",
        "# df.to_excel('df_machler.xlsx', index=False)\n",
        "\n",
        "# # Descarga el archivo Excel\n",
        "# files.download('df_machler.xlsx')"
      ],
      "metadata": {
        "id": "cF8BsrC_Oefw"
      },
      "execution_count": null,
      "outputs": []
    },
    {
      "cell_type": "code",
      "source": [
        "# # ML\n",
        "# @app.get('/recomendacion/{titulo}')\n",
        "# #la segnora funcion\n",
        "# def recomendacion(movie):\n",
        "#     id_of_movie = df_ml[df_ml['title']==movie].index[0]\n",
        "#     distances = similarity[id_of_movie]\n",
        "#     movie_list = sorted(list(enumerate(distances)), reverse=True, key=lambda x:x[1])[1:6]\n",
        "#     for movie_id in movie_list:\n",
        "#         print(df_ml.iloc[movie_id[0]].title)"
      ],
      "metadata": {
        "id": "GhUBm-QXlFHy"
      },
      "execution_count": null,
      "outputs": []
    },
    {
      "cell_type": "code",
      "source": [
        "# @app.get('/cantidad_filmaciones_mes/{mes}')\n",
        "# def cantidad_filmaciones_mes(mes:str):\n",
        "#     '''Se ingresa el mes y la funcion retorna la cantidad de peliculas que se estrenaron ese mes historicamente'''\n",
        "#     return {'mes':mes, 'cantidad':respuesta}\n",
        "\n",
        "# @app.get('/cantidad_filmaciones_dia{dia}')\n",
        "# def cantidad_filmaciones_dia(dia:str):\n",
        "#     '''Se ingresa el dia y la funcion retorna la cantidad de peliculas que se estrebaron ese dia historicamente'''\n",
        "#     return {'dia':dia, 'cantidad':respuesta}\n",
        "\n",
        "# @app.get('/score_titulo/{titulo}')\n",
        "# def score_titulo(titulo:str):\n",
        "#     '''Se ingresa el título de una filmación esperando como respuesta el título, el año de estreno y el score'''\n",
        "#     return {'titulo':titulo, 'anio':respuesta, 'popularidad':respuesta}\n",
        "\n",
        "# @app.get('/votos_titulo/{titulo}')\n",
        "# def votos_titulo(titulo:str):\n",
        "#     '''Se ingresa el título de una filmación esperando como respuesta el título, la cantidad de votos y el valor promedio de las votaciones.\n",
        "#     La misma variable deberá de contar con al menos 2000 valoraciones,\n",
        "#     caso contrario, debemos contar con un mensaje avisando que no cumple esta condición y que por ende, no se devuelve ningun valor.'''\n",
        "#     return {'titulo':titulo, 'anio':respuesta, 'voto_total':respuesta, 'voto_promedio':respuesta}\n",
        "\n",
        "# @app.get('/get_actor/{nombre_actor}')\n",
        "# def get_actor(nombre_actor:str):\n",
        "#     '''Se ingresa el nombre de un actor que se encuentre dentro de un dataset debiendo devolver el éxito del mismo medido a través del retorno.\n",
        "#     Además, la cantidad de películas que en las que ha participado y el promedio de retorno'''\n",
        "#     return {'actor':nombre_actor, 'cantidad_filmaciones':respuesta, 'retorno_total':respuesta, 'retorno_promedio':respuesta}\n",
        "\n",
        "# @app.get('/get_director/{nombre_director}')\n",
        "# def get_director(nombre_director:str):\n",
        "#     ''' Se ingresa el nombre de un director que se encuentre dentro de un dataset debiendo devolver el éxito del mismo medido a través del retorno.\n",
        "#     Además, deberá devolver el nombre de cada película con la fecha de lanzamiento, retorno individual, costo y ganancia de la misma.'''\n",
        "#     return {'director':nombre_director, 'retorno_total_director':respuesta,\n",
        "#     'peliculas':respuesta, 'anio':respuesta,, 'retorno_pelicula':respuesta,\n",
        "#     'budget_pelicula':respuesta, 'revenue_pelicula':respuesta}\n",
        "\n",
        "# # ML\n",
        "# @app.get('/recomendacion/{titulo}')\n",
        "# def recomendacion(titulo:str):\n",
        "#     '''Ingresas un nombre de pelicula y te recomienda las similares en una lista'''\n",
        "#     return {'lista recomendada': respuesta}"
      ],
      "metadata": {
        "id": "ElcoYfKol28t"
      },
      "execution_count": null,
      "outputs": []
    },
    {
      "cell_type": "code",
      "source": [
        "#copia de seguridad de la funcion\n",
        "# def get_director(nombre_director):\n",
        "#     # Cargar el dataset en un DataFrame (suponiendo que ya tienes un DataFrame llamado 'dataset')\n",
        "#     #dataset = pd.DataFrame(...)  # Aquí deberías cargar tu propio dataset\n",
        "\n",
        "#     # Filtrar el DataFrame por el nombre del director\n",
        "#     df_director = df[df['crew'].apply(lambda x: nombre_director in x)]\n",
        "\n",
        "#     # Verificar si se encontró el director\n",
        "#     if len(df_director) == 0:\n",
        "#         return f\"No se encontró el director {nombre_director}\"\n",
        "\n",
        "#     # Obtener los datos del director (éxito y detalles de cada película)\n",
        "#     exito = df_director['return'].sum()\n",
        "#     detalles_peliculas = []\n",
        "#     for _, row in df_director.iterrows():\n",
        "#         titulo = row['title']\n",
        "#         fecha_lanzamiento = row['release_date']\n",
        "#         retorno = row['return']\n",
        "#         costo = row['budget']\n",
        "#         ganancia = row['revenue'] - row['budget']\n",
        "#         detalles_peliculas.append((titulo, fecha_lanzamiento, retorno, costo, ganancia))\n",
        "\n",
        "#     # Devolver el resultado\n",
        "#     mensaje = f\"El director {nombre_director} tiene un éxito total de {exito}.\\n \"\n",
        "#     mensaje += \"Detalles de las películas:\\n\"\n",
        "#     for detalle in detalles_peliculas:\n",
        "#         titulo, fecha_lanzamiento, retorno, costo, ganancia = detalle\n",
        "#         mensaje += f\"- Película: {titulo}\\n\"\n",
        "#         mensaje += f\"  Fecha de lanzamiento: {fecha_lanzamiento}\\n\"\n",
        "#         mensaje += f\"  Retorno individual: {retorno}\\n\"\n",
        "#         mensaje += f\"  Costo: {costo}\\n\"\n",
        "#         mensaje += f\"  Ganancia: {ganancia}\\n\"\n",
        "\n",
        "#     return mensaje"
      ],
      "metadata": {
        "id": "rVBgLs0ErrFC"
      },
      "execution_count": null,
      "outputs": []
    }
  ],
  "metadata": {
    "colab": {
      "provenance": [],
      "gpuType": "T4",
      "collapsed_sections": [
        "ZuCMWuSEO6ch"
      ]
    },
    "kernelspec": {
      "display_name": "Python 3",
      "name": "python3"
    },
    "language_info": {
      "name": "python"
    }
  },
  "nbformat": 4,
  "nbformat_minor": 0
}